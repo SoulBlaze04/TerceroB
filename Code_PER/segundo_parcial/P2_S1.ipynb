{
 "cells": [
  {
   "cell_type": "markdown",
   "metadata": {},
   "source": [
    "## Práctica 2 - sesión 1\n",
    "\n",
    "El objetivo de esta práctica el empleo de árboles de decisión en diferentes tareas de clasificación. Desde tareás muy sencillas como iris, hasta más complejas como digits y olivetti faces.\n"
   ]
  },
  {
   "cell_type": "markdown",
   "metadata": {},
   "source": [
    "### Arboles de decisión con Iris data-set\n",
    "\n",
    "Empecemos con Iris y exploremos algunos parámetros del clasificador basado en árboles de decisión. Algunos de los parámetros más importnates son:\n",
    "\n",
    "* max_depth\n",
    "* min_samples_split\n",
    "\n",
    "Aquí descritos : [DecisionTrees](https://scikit-learn.org/stable/modules/generated/sklearn.tree.DecisionTreeClassifier.html)\n",
    "\n"
   ]
  },
  {
   "cell_type": "code",
   "execution_count": 2,
   "metadata": {
    "ExecuteTime": {
     "end_time": "2024-05-25T18:15:22.021136Z",
     "start_time": "2024-05-25T18:15:21.857381800Z"
    }
   },
   "outputs": [
    {
     "name": "stdout",
     "output_type": "stream",
     "text": [
      "Precisión: 93.3%\n"
     ]
    }
   ],
   "source": [
    "from sklearn.datasets import load_iris\n",
    "from sklearn.model_selection import train_test_split, GridSearchCV\n",
    "from sklearn.tree import DecisionTreeClassifier\n",
    "\n",
    "X, y = load_iris(return_X_y=True)\n",
    "X_train, X_test, y_train, y_test = train_test_split(X, y, test_size=0.2, shuffle=True, random_state=23)\n",
    "\n",
    "\n",
    "dt = DecisionTreeClassifier(max_depth=3, min_samples_split=2, random_state=23)\n",
    "\n",
    "acc=dt.fit(X_train, y_train).score(X_test, y_test)\n",
    "print(f'Precisión: {acc:.1%}')"
   ]
  },
  {
   "cell_type": "markdown",
   "metadata": {},
   "source": [
    "**Ejercicio**: Realiza una búsqueda de los mejores parámetros empleando GridSearch"
   ]
  },
  {
   "cell_type": "code",
   "outputs": [
    {
     "name": "stdout",
     "output_type": "stream",
     "text": [
      "Precisión: 96.7% con {'max_depth': 2, 'min_samples_split': 2}\n"
     ]
    }
   ],
   "source": [
    "from sklearn.model_selection import GridSearchCV\n",
    "\n",
    "G = {\"max_depth\": [2,4,6,8,10], \"min_samples_split\": [2,3,4,5]}\n",
    "\n",
    "GS = GridSearchCV(DecisionTreeClassifier(random_state=23), G, scoring='accuracy', refit=True, cv=5)\n",
    "\n",
    "acc = GS.fit(X_train, y_train).score(X_test, y_test)\n",
    "print(f'Precisión: {acc:.1%} con {GS.best_params_}')"
   ],
   "metadata": {
    "collapsed": false,
    "ExecuteTime": {
     "end_time": "2024-05-25T18:15:25.485696700Z",
     "start_time": "2024-05-25T18:15:25.256969100Z"
    }
   },
   "execution_count": 3
  },
  {
   "cell_type": "markdown",
   "metadata": {},
   "source": [
    "**Ejercicio**: Aplica árboles de decisión a el dataset digits. Prueba a realizar alguna expansión polinómica de las características y PCA. Emplea GridSearch para estimar los mejores parámetros."
   ]
  },
  {
   "cell_type": "markdown",
   "metadata": {},
   "source": [
    "**Ejercicio**: Aplica árboles de decisión a el dataset olivetti faces. Prueba a realizar alguna expansión polinómica de las características y PCA. Emplea GridSearch para estimar los mejores parámetros."
   ]
  },
  {
   "cell_type": "code",
   "outputs": [
    {
     "name": "stdout",
     "output_type": "stream",
     "text": [
      "Fitting 5 folds for each of 24 candidates, totalling 120 fits\n",
      "[CV 1/5; 1/24] START dt__max_depth=8, dt__min_samples_split=2, pca__n_components=32, poly__degree=2\n",
      "[CV 1/5; 1/24] END dt__max_depth=8, dt__min_samples_split=2, pca__n_components=32, poly__degree=2;, score=0.795 total time=   0.3s\n",
      "[CV 2/5; 1/24] START dt__max_depth=8, dt__min_samples_split=2, pca__n_components=32, poly__degree=2\n",
      "[CV 2/5; 1/24] END dt__max_depth=8, dt__min_samples_split=2, pca__n_components=32, poly__degree=2;, score=0.812 total time=   0.2s\n",
      "[CV 3/5; 1/24] START dt__max_depth=8, dt__min_samples_split=2, pca__n_components=32, poly__degree=2\n",
      "[CV 3/5; 1/24] END dt__max_depth=8, dt__min_samples_split=2, pca__n_components=32, poly__degree=2;, score=0.822 total time=   0.3s\n",
      "[CV 4/5; 1/24] START dt__max_depth=8, dt__min_samples_split=2, pca__n_components=32, poly__degree=2\n",
      "[CV 4/5; 1/24] END dt__max_depth=8, dt__min_samples_split=2, pca__n_components=32, poly__degree=2;, score=0.850 total time=   0.2s\n",
      "[CV 5/5; 1/24] START dt__max_depth=8, dt__min_samples_split=2, pca__n_components=32, poly__degree=2\n",
      "[CV 5/5; 1/24] END dt__max_depth=8, dt__min_samples_split=2, pca__n_components=32, poly__degree=2;, score=0.787 total time=   0.3s\n",
      "[CV 1/5; 2/24] START dt__max_depth=8, dt__min_samples_split=2, pca__n_components=64, poly__degree=2\n",
      "[CV 1/5; 2/24] END dt__max_depth=8, dt__min_samples_split=2, pca__n_components=64, poly__degree=2;, score=0.785 total time=   0.6s\n",
      "[CV 2/5; 2/24] START dt__max_depth=8, dt__min_samples_split=2, pca__n_components=64, poly__degree=2\n",
      "[CV 2/5; 2/24] END dt__max_depth=8, dt__min_samples_split=2, pca__n_components=64, poly__degree=2;, score=0.799 total time=   0.7s\n",
      "[CV 3/5; 2/24] START dt__max_depth=8, dt__min_samples_split=2, pca__n_components=64, poly__degree=2\n",
      "[CV 3/5; 2/24] END dt__max_depth=8, dt__min_samples_split=2, pca__n_components=64, poly__degree=2;, score=0.808 total time=   0.6s\n",
      "[CV 4/5; 2/24] START dt__max_depth=8, dt__min_samples_split=2, pca__n_components=64, poly__degree=2\n",
      "[CV 4/5; 2/24] END dt__max_depth=8, dt__min_samples_split=2, pca__n_components=64, poly__degree=2;, score=0.840 total time=   0.4s\n",
      "[CV 5/5; 2/24] START dt__max_depth=8, dt__min_samples_split=2, pca__n_components=64, poly__degree=2\n",
      "[CV 5/5; 2/24] END dt__max_depth=8, dt__min_samples_split=2, pca__n_components=64, poly__degree=2;, score=0.770 total time=   0.4s\n",
      "[CV 1/5; 3/24] START dt__max_depth=8, dt__min_samples_split=4, pca__n_components=32, poly__degree=2\n",
      "[CV 1/5; 3/24] END dt__max_depth=8, dt__min_samples_split=4, pca__n_components=32, poly__degree=2;, score=0.792 total time=   0.2s\n",
      "[CV 2/5; 3/24] START dt__max_depth=8, dt__min_samples_split=4, pca__n_components=32, poly__degree=2\n",
      "[CV 2/5; 3/24] END dt__max_depth=8, dt__min_samples_split=4, pca__n_components=32, poly__degree=2;, score=0.806 total time=   0.2s\n",
      "[CV 3/5; 3/24] START dt__max_depth=8, dt__min_samples_split=4, pca__n_components=32, poly__degree=2\n",
      "[CV 3/5; 3/24] END dt__max_depth=8, dt__min_samples_split=4, pca__n_components=32, poly__degree=2;, score=0.819 total time=   0.2s\n",
      "[CV 4/5; 3/24] START dt__max_depth=8, dt__min_samples_split=4, pca__n_components=32, poly__degree=2\n",
      "[CV 4/5; 3/24] END dt__max_depth=8, dt__min_samples_split=4, pca__n_components=32, poly__degree=2;, score=0.833 total time=   0.2s\n",
      "[CV 5/5; 3/24] START dt__max_depth=8, dt__min_samples_split=4, pca__n_components=32, poly__degree=2\n",
      "[CV 5/5; 3/24] END dt__max_depth=8, dt__min_samples_split=4, pca__n_components=32, poly__degree=2;, score=0.794 total time=   0.2s\n",
      "[CV 1/5; 4/24] START dt__max_depth=8, dt__min_samples_split=4, pca__n_components=64, poly__degree=2\n",
      "[CV 1/5; 4/24] END dt__max_depth=8, dt__min_samples_split=4, pca__n_components=64, poly__degree=2;, score=0.785 total time=   0.4s\n",
      "[CV 2/5; 4/24] START dt__max_depth=8, dt__min_samples_split=4, pca__n_components=64, poly__degree=2\n",
      "[CV 2/5; 4/24] END dt__max_depth=8, dt__min_samples_split=4, pca__n_components=64, poly__degree=2;, score=0.799 total time=   0.9s\n",
      "[CV 3/5; 4/24] START dt__max_depth=8, dt__min_samples_split=4, pca__n_components=64, poly__degree=2\n",
      "[CV 3/5; 4/24] END dt__max_depth=8, dt__min_samples_split=4, pca__n_components=64, poly__degree=2;, score=0.812 total time=   0.8s\n",
      "[CV 4/5; 4/24] START dt__max_depth=8, dt__min_samples_split=4, pca__n_components=64, poly__degree=2\n",
      "[CV 4/5; 4/24] END dt__max_depth=8, dt__min_samples_split=4, pca__n_components=64, poly__degree=2;, score=0.850 total time=   0.6s\n",
      "[CV 5/5; 4/24] START dt__max_depth=8, dt__min_samples_split=4, pca__n_components=64, poly__degree=2\n",
      "[CV 5/5; 4/24] END dt__max_depth=8, dt__min_samples_split=4, pca__n_components=64, poly__degree=2;, score=0.770 total time=   0.6s\n",
      "[CV 1/5; 5/24] START dt__max_depth=8, dt__min_samples_split=6, pca__n_components=32, poly__degree=2\n",
      "[CV 1/5; 5/24] END dt__max_depth=8, dt__min_samples_split=6, pca__n_components=32, poly__degree=2;, score=0.795 total time=   0.2s\n",
      "[CV 2/5; 5/24] START dt__max_depth=8, dt__min_samples_split=6, pca__n_components=32, poly__degree=2\n",
      "[CV 2/5; 5/24] END dt__max_depth=8, dt__min_samples_split=6, pca__n_components=32, poly__degree=2;, score=0.809 total time=   0.2s\n",
      "[CV 3/5; 5/24] START dt__max_depth=8, dt__min_samples_split=6, pca__n_components=32, poly__degree=2\n",
      "[CV 3/5; 5/24] END dt__max_depth=8, dt__min_samples_split=6, pca__n_components=32, poly__degree=2;, score=0.815 total time=   0.3s\n",
      "[CV 4/5; 5/24] START dt__max_depth=8, dt__min_samples_split=6, pca__n_components=32, poly__degree=2\n",
      "[CV 4/5; 5/24] END dt__max_depth=8, dt__min_samples_split=6, pca__n_components=32, poly__degree=2;, score=0.836 total time=   0.5s\n",
      "[CV 5/5; 5/24] START dt__max_depth=8, dt__min_samples_split=6, pca__n_components=32, poly__degree=2\n",
      "[CV 5/5; 5/24] END dt__max_depth=8, dt__min_samples_split=6, pca__n_components=32, poly__degree=2;, score=0.798 total time=   0.6s\n",
      "[CV 1/5; 6/24] START dt__max_depth=8, dt__min_samples_split=6, pca__n_components=64, poly__degree=2\n",
      "[CV 1/5; 6/24] END dt__max_depth=8, dt__min_samples_split=6, pca__n_components=64, poly__degree=2;, score=0.785 total time=   2.1s\n",
      "[CV 2/5; 6/24] START dt__max_depth=8, dt__min_samples_split=6, pca__n_components=64, poly__degree=2\n",
      "[CV 2/5; 6/24] END dt__max_depth=8, dt__min_samples_split=6, pca__n_components=64, poly__degree=2;, score=0.802 total time=   0.6s\n",
      "[CV 3/5; 6/24] START dt__max_depth=8, dt__min_samples_split=6, pca__n_components=64, poly__degree=2\n",
      "[CV 3/5; 6/24] END dt__max_depth=8, dt__min_samples_split=6, pca__n_components=64, poly__degree=2;, score=0.822 total time=   1.1s\n",
      "[CV 4/5; 6/24] START dt__max_depth=8, dt__min_samples_split=6, pca__n_components=64, poly__degree=2\n",
      "[CV 4/5; 6/24] END dt__max_depth=8, dt__min_samples_split=6, pca__n_components=64, poly__degree=2;, score=0.826 total time=   0.9s\n",
      "[CV 5/5; 6/24] START dt__max_depth=8, dt__min_samples_split=6, pca__n_components=64, poly__degree=2\n",
      "[CV 5/5; 6/24] END dt__max_depth=8, dt__min_samples_split=6, pca__n_components=64, poly__degree=2;, score=0.770 total time=   0.4s\n",
      "[CV 1/5; 7/24] START dt__max_depth=16, dt__min_samples_split=2, pca__n_components=32, poly__degree=2\n",
      "[CV 1/5; 7/24] END dt__max_depth=16, dt__min_samples_split=2, pca__n_components=32, poly__degree=2;, score=0.819 total time=   0.2s\n",
      "[CV 2/5; 7/24] START dt__max_depth=16, dt__min_samples_split=2, pca__n_components=32, poly__degree=2\n",
      "[CV 2/5; 7/24] END dt__max_depth=16, dt__min_samples_split=2, pca__n_components=32, poly__degree=2;, score=0.844 total time=   0.2s\n",
      "[CV 3/5; 7/24] START dt__max_depth=16, dt__min_samples_split=2, pca__n_components=32, poly__degree=2\n",
      "[CV 3/5; 7/24] END dt__max_depth=16, dt__min_samples_split=2, pca__n_components=32, poly__degree=2;, score=0.808 total time=   0.2s\n",
      "[CV 4/5; 7/24] START dt__max_depth=16, dt__min_samples_split=2, pca__n_components=32, poly__degree=2\n",
      "[CV 4/5; 7/24] END dt__max_depth=16, dt__min_samples_split=2, pca__n_components=32, poly__degree=2;, score=0.843 total time=   0.2s\n",
      "[CV 5/5; 7/24] START dt__max_depth=16, dt__min_samples_split=2, pca__n_components=32, poly__degree=2\n",
      "[CV 5/5; 7/24] END dt__max_depth=16, dt__min_samples_split=2, pca__n_components=32, poly__degree=2;, score=0.819 total time=   0.3s\n",
      "[CV 1/5; 8/24] START dt__max_depth=16, dt__min_samples_split=2, pca__n_components=64, poly__degree=2\n",
      "[CV 1/5; 8/24] END dt__max_depth=16, dt__min_samples_split=2, pca__n_components=64, poly__degree=2;, score=0.792 total time=   0.9s\n",
      "[CV 2/5; 8/24] START dt__max_depth=16, dt__min_samples_split=2, pca__n_components=64, poly__degree=2\n",
      "[CV 2/5; 8/24] END dt__max_depth=16, dt__min_samples_split=2, pca__n_components=64, poly__degree=2;, score=0.830 total time=   0.7s\n",
      "[CV 3/5; 8/24] START dt__max_depth=16, dt__min_samples_split=2, pca__n_components=64, poly__degree=2\n",
      "[CV 3/5; 8/24] END dt__max_depth=16, dt__min_samples_split=2, pca__n_components=64, poly__degree=2;, score=0.791 total time=   0.7s\n",
      "[CV 4/5; 8/24] START dt__max_depth=16, dt__min_samples_split=2, pca__n_components=64, poly__degree=2\n",
      "[CV 4/5; 8/24] END dt__max_depth=16, dt__min_samples_split=2, pca__n_components=64, poly__degree=2;, score=0.826 total time=   1.6s\n",
      "[CV 5/5; 8/24] START dt__max_depth=16, dt__min_samples_split=2, pca__n_components=64, poly__degree=2\n",
      "[CV 5/5; 8/24] END dt__max_depth=16, dt__min_samples_split=2, pca__n_components=64, poly__degree=2;, score=0.808 total time=   0.8s\n",
      "[CV 1/5; 9/24] START dt__max_depth=16, dt__min_samples_split=4, pca__n_components=32, poly__degree=2\n",
      "[CV 1/5; 9/24] END dt__max_depth=16, dt__min_samples_split=4, pca__n_components=32, poly__degree=2;, score=0.833 total time=   0.2s\n",
      "[CV 2/5; 9/24] START dt__max_depth=16, dt__min_samples_split=4, pca__n_components=32, poly__degree=2\n",
      "[CV 2/5; 9/24] END dt__max_depth=16, dt__min_samples_split=4, pca__n_components=32, poly__degree=2;, score=0.844 total time=   0.2s\n",
      "[CV 3/5; 9/24] START dt__max_depth=16, dt__min_samples_split=4, pca__n_components=32, poly__degree=2\n",
      "[CV 3/5; 9/24] END dt__max_depth=16, dt__min_samples_split=4, pca__n_components=32, poly__degree=2;, score=0.787 total time=   0.2s\n",
      "[CV 4/5; 9/24] START dt__max_depth=16, dt__min_samples_split=4, pca__n_components=32, poly__degree=2\n",
      "[CV 4/5; 9/24] END dt__max_depth=16, dt__min_samples_split=4, pca__n_components=32, poly__degree=2;, score=0.857 total time=   0.2s\n",
      "[CV 5/5; 9/24] START dt__max_depth=16, dt__min_samples_split=4, pca__n_components=32, poly__degree=2\n",
      "[CV 5/5; 9/24] END dt__max_depth=16, dt__min_samples_split=4, pca__n_components=32, poly__degree=2;, score=0.840 total time=   0.2s\n",
      "[CV 1/5; 10/24] START dt__max_depth=16, dt__min_samples_split=4, pca__n_components=64, poly__degree=2\n",
      "[CV 1/5; 10/24] END dt__max_depth=16, dt__min_samples_split=4, pca__n_components=64, poly__degree=2;, score=0.816 total time=   0.4s\n",
      "[CV 2/5; 10/24] START dt__max_depth=16, dt__min_samples_split=4, pca__n_components=64, poly__degree=2\n",
      "[CV 2/5; 10/24] END dt__max_depth=16, dt__min_samples_split=4, pca__n_components=64, poly__degree=2;, score=0.819 total time=   0.4s\n",
      "[CV 3/5; 10/24] START dt__max_depth=16, dt__min_samples_split=4, pca__n_components=64, poly__degree=2\n",
      "[CV 3/5; 10/24] END dt__max_depth=16, dt__min_samples_split=4, pca__n_components=64, poly__degree=2;, score=0.798 total time=   0.6s\n",
      "[CV 4/5; 10/24] START dt__max_depth=16, dt__min_samples_split=4, pca__n_components=64, poly__degree=2\n",
      "[CV 4/5; 10/24] END dt__max_depth=16, dt__min_samples_split=4, pca__n_components=64, poly__degree=2;, score=0.854 total time=   0.5s\n",
      "[CV 5/5; 10/24] START dt__max_depth=16, dt__min_samples_split=4, pca__n_components=64, poly__degree=2\n",
      "[CV 5/5; 10/24] END dt__max_depth=16, dt__min_samples_split=4, pca__n_components=64, poly__degree=2;, score=0.815 total time=   0.4s\n",
      "[CV 1/5; 11/24] START dt__max_depth=16, dt__min_samples_split=6, pca__n_components=32, poly__degree=2\n",
      "[CV 1/5; 11/24] END dt__max_depth=16, dt__min_samples_split=6, pca__n_components=32, poly__degree=2;, score=0.812 total time=   0.8s\n",
      "[CV 2/5; 11/24] START dt__max_depth=16, dt__min_samples_split=6, pca__n_components=32, poly__degree=2\n",
      "[CV 2/5; 11/24] END dt__max_depth=16, dt__min_samples_split=6, pca__n_components=32, poly__degree=2;, score=0.833 total time=   0.2s\n",
      "[CV 3/5; 11/24] START dt__max_depth=16, dt__min_samples_split=6, pca__n_components=32, poly__degree=2\n",
      "[CV 3/5; 11/24] END dt__max_depth=16, dt__min_samples_split=6, pca__n_components=32, poly__degree=2;, score=0.787 total time=   0.4s\n",
      "[CV 4/5; 11/24] START dt__max_depth=16, dt__min_samples_split=6, pca__n_components=32, poly__degree=2\n",
      "[CV 4/5; 11/24] END dt__max_depth=16, dt__min_samples_split=6, pca__n_components=32, poly__degree=2;, score=0.847 total time=   0.4s\n",
      "[CV 5/5; 11/24] START dt__max_depth=16, dt__min_samples_split=6, pca__n_components=32, poly__degree=2\n",
      "[CV 5/5; 11/24] END dt__max_depth=16, dt__min_samples_split=6, pca__n_components=32, poly__degree=2;, score=0.826 total time=   0.3s\n",
      "[CV 1/5; 12/24] START dt__max_depth=16, dt__min_samples_split=6, pca__n_components=64, poly__degree=2\n",
      "[CV 1/5; 12/24] END dt__max_depth=16, dt__min_samples_split=6, pca__n_components=64, poly__degree=2;, score=0.795 total time=   0.6s\n",
      "[CV 2/5; 12/24] START dt__max_depth=16, dt__min_samples_split=6, pca__n_components=64, poly__degree=2\n",
      "[CV 2/5; 12/24] END dt__max_depth=16, dt__min_samples_split=6, pca__n_components=64, poly__degree=2;, score=0.823 total time=   0.8s\n",
      "[CV 3/5; 12/24] START dt__max_depth=16, dt__min_samples_split=6, pca__n_components=64, poly__degree=2\n",
      "[CV 3/5; 12/24] END dt__max_depth=16, dt__min_samples_split=6, pca__n_components=64, poly__degree=2;, score=0.787 total time=   1.3s\n",
      "[CV 4/5; 12/24] START dt__max_depth=16, dt__min_samples_split=6, pca__n_components=64, poly__degree=2\n",
      "[CV 4/5; 12/24] END dt__max_depth=16, dt__min_samples_split=6, pca__n_components=64, poly__degree=2;, score=0.822 total time=   0.5s\n",
      "[CV 5/5; 12/24] START dt__max_depth=16, dt__min_samples_split=6, pca__n_components=64, poly__degree=2\n",
      "[CV 5/5; 12/24] END dt__max_depth=16, dt__min_samples_split=6, pca__n_components=64, poly__degree=2;, score=0.808 total time=   0.6s\n",
      "[CV 1/5; 13/24] START dt__max_depth=32, dt__min_samples_split=2, pca__n_components=32, poly__degree=2\n",
      "[CV 1/5; 13/24] END dt__max_depth=32, dt__min_samples_split=2, pca__n_components=32, poly__degree=2;, score=0.819 total time=   0.2s\n",
      "[CV 2/5; 13/24] START dt__max_depth=32, dt__min_samples_split=2, pca__n_components=32, poly__degree=2\n",
      "[CV 2/5; 13/24] END dt__max_depth=32, dt__min_samples_split=2, pca__n_components=32, poly__degree=2;, score=0.844 total time=   0.2s\n",
      "[CV 3/5; 13/24] START dt__max_depth=32, dt__min_samples_split=2, pca__n_components=32, poly__degree=2\n",
      "[CV 3/5; 13/24] END dt__max_depth=32, dt__min_samples_split=2, pca__n_components=32, poly__degree=2;, score=0.808 total time=   0.2s\n",
      "[CV 4/5; 13/24] START dt__max_depth=32, dt__min_samples_split=2, pca__n_components=32, poly__degree=2\n",
      "[CV 4/5; 13/24] END dt__max_depth=32, dt__min_samples_split=2, pca__n_components=32, poly__degree=2;, score=0.843 total time=   0.2s\n",
      "[CV 5/5; 13/24] START dt__max_depth=32, dt__min_samples_split=2, pca__n_components=32, poly__degree=2\n",
      "[CV 5/5; 13/24] END dt__max_depth=32, dt__min_samples_split=2, pca__n_components=32, poly__degree=2;, score=0.819 total time=   0.2s\n",
      "[CV 1/5; 14/24] START dt__max_depth=32, dt__min_samples_split=2, pca__n_components=64, poly__degree=2\n",
      "[CV 1/5; 14/24] END dt__max_depth=32, dt__min_samples_split=2, pca__n_components=64, poly__degree=2;, score=0.792 total time=   0.4s\n",
      "[CV 2/5; 14/24] START dt__max_depth=32, dt__min_samples_split=2, pca__n_components=64, poly__degree=2\n",
      "[CV 2/5; 14/24] END dt__max_depth=32, dt__min_samples_split=2, pca__n_components=64, poly__degree=2;, score=0.826 total time=   0.4s\n",
      "[CV 3/5; 14/24] START dt__max_depth=32, dt__min_samples_split=2, pca__n_components=64, poly__degree=2\n",
      "[CV 3/5; 14/24] END dt__max_depth=32, dt__min_samples_split=2, pca__n_components=64, poly__degree=2;, score=0.794 total time=   0.4s\n",
      "[CV 4/5; 14/24] START dt__max_depth=32, dt__min_samples_split=2, pca__n_components=64, poly__degree=2\n",
      "[CV 4/5; 14/24] END dt__max_depth=32, dt__min_samples_split=2, pca__n_components=64, poly__degree=2;, score=0.843 total time=   0.6s\n",
      "[CV 5/5; 14/24] START dt__max_depth=32, dt__min_samples_split=2, pca__n_components=64, poly__degree=2\n",
      "[CV 5/5; 14/24] END dt__max_depth=32, dt__min_samples_split=2, pca__n_components=64, poly__degree=2;, score=0.794 total time=   0.5s\n",
      "[CV 1/5; 15/24] START dt__max_depth=32, dt__min_samples_split=4, pca__n_components=32, poly__degree=2\n",
      "[CV 1/5; 15/24] END dt__max_depth=32, dt__min_samples_split=4, pca__n_components=32, poly__degree=2;, score=0.833 total time=   0.2s\n",
      "[CV 2/5; 15/24] START dt__max_depth=32, dt__min_samples_split=4, pca__n_components=32, poly__degree=2\n",
      "[CV 2/5; 15/24] END dt__max_depth=32, dt__min_samples_split=4, pca__n_components=32, poly__degree=2;, score=0.844 total time=   0.3s\n",
      "[CV 3/5; 15/24] START dt__max_depth=32, dt__min_samples_split=4, pca__n_components=32, poly__degree=2\n",
      "[CV 3/5; 15/24] END dt__max_depth=32, dt__min_samples_split=4, pca__n_components=32, poly__degree=2;, score=0.787 total time=   0.3s\n",
      "[CV 4/5; 15/24] START dt__max_depth=32, dt__min_samples_split=4, pca__n_components=32, poly__degree=2\n",
      "[CV 4/5; 15/24] END dt__max_depth=32, dt__min_samples_split=4, pca__n_components=32, poly__degree=2;, score=0.857 total time=   0.3s\n",
      "[CV 5/5; 15/24] START dt__max_depth=32, dt__min_samples_split=4, pca__n_components=32, poly__degree=2\n",
      "[CV 5/5; 15/24] END dt__max_depth=32, dt__min_samples_split=4, pca__n_components=32, poly__degree=2;, score=0.840 total time=   0.3s\n",
      "[CV 1/5; 16/24] START dt__max_depth=32, dt__min_samples_split=4, pca__n_components=64, poly__degree=2\n",
      "[CV 1/5; 16/24] END dt__max_depth=32, dt__min_samples_split=4, pca__n_components=64, poly__degree=2;, score=0.809 total time=   0.9s\n",
      "[CV 2/5; 16/24] START dt__max_depth=32, dt__min_samples_split=4, pca__n_components=64, poly__degree=2\n",
      "[CV 2/5; 16/24] END dt__max_depth=32, dt__min_samples_split=4, pca__n_components=64, poly__degree=2;, score=0.823 total time=   0.6s\n",
      "[CV 3/5; 16/24] START dt__max_depth=32, dt__min_samples_split=4, pca__n_components=64, poly__degree=2\n",
      "[CV 3/5; 16/24] END dt__max_depth=32, dt__min_samples_split=4, pca__n_components=64, poly__degree=2;, score=0.798 total time=   0.8s\n",
      "[CV 4/5; 16/24] START dt__max_depth=32, dt__min_samples_split=4, pca__n_components=64, poly__degree=2\n",
      "[CV 4/5; 16/24] END dt__max_depth=32, dt__min_samples_split=4, pca__n_components=64, poly__degree=2;, score=0.850 total time=   0.4s\n",
      "[CV 5/5; 16/24] START dt__max_depth=32, dt__min_samples_split=4, pca__n_components=64, poly__degree=2\n",
      "[CV 5/5; 16/24] END dt__max_depth=32, dt__min_samples_split=4, pca__n_components=64, poly__degree=2;, score=0.815 total time=   0.5s\n",
      "[CV 1/5; 17/24] START dt__max_depth=32, dt__min_samples_split=6, pca__n_components=32, poly__degree=2\n",
      "[CV 1/5; 17/24] END dt__max_depth=32, dt__min_samples_split=6, pca__n_components=32, poly__degree=2;, score=0.812 total time=   0.2s\n",
      "[CV 2/5; 17/24] START dt__max_depth=32, dt__min_samples_split=6, pca__n_components=32, poly__degree=2\n",
      "[CV 2/5; 17/24] END dt__max_depth=32, dt__min_samples_split=6, pca__n_components=32, poly__degree=2;, score=0.833 total time=   0.2s\n",
      "[CV 3/5; 17/24] START dt__max_depth=32, dt__min_samples_split=6, pca__n_components=32, poly__degree=2\n",
      "[CV 3/5; 17/24] END dt__max_depth=32, dt__min_samples_split=6, pca__n_components=32, poly__degree=2;, score=0.787 total time=   0.2s\n",
      "[CV 4/5; 17/24] START dt__max_depth=32, dt__min_samples_split=6, pca__n_components=32, poly__degree=2\n",
      "[CV 4/5; 17/24] END dt__max_depth=32, dt__min_samples_split=6, pca__n_components=32, poly__degree=2;, score=0.847 total time=   0.2s\n",
      "[CV 5/5; 17/24] START dt__max_depth=32, dt__min_samples_split=6, pca__n_components=32, poly__degree=2\n",
      "[CV 5/5; 17/24] END dt__max_depth=32, dt__min_samples_split=6, pca__n_components=32, poly__degree=2;, score=0.826 total time=   0.2s\n",
      "[CV 1/5; 18/24] START dt__max_depth=32, dt__min_samples_split=6, pca__n_components=64, poly__degree=2\n",
      "[CV 1/5; 18/24] END dt__max_depth=32, dt__min_samples_split=6, pca__n_components=64, poly__degree=2;, score=0.802 total time=   0.4s\n",
      "[CV 2/5; 18/24] START dt__max_depth=32, dt__min_samples_split=6, pca__n_components=64, poly__degree=2\n",
      "[CV 2/5; 18/24] END dt__max_depth=32, dt__min_samples_split=6, pca__n_components=64, poly__degree=2;, score=0.819 total time=   1.6s\n",
      "[CV 3/5; 18/24] START dt__max_depth=32, dt__min_samples_split=6, pca__n_components=64, poly__degree=2\n",
      "[CV 3/5; 18/24] END dt__max_depth=32, dt__min_samples_split=6, pca__n_components=64, poly__degree=2;, score=0.784 total time=   1.0s\n",
      "[CV 4/5; 18/24] START dt__max_depth=32, dt__min_samples_split=6, pca__n_components=64, poly__degree=2\n",
      "[CV 4/5; 18/24] END dt__max_depth=32, dt__min_samples_split=6, pca__n_components=64, poly__degree=2;, score=0.836 total time=   2.4s\n",
      "[CV 5/5; 18/24] START dt__max_depth=32, dt__min_samples_split=6, pca__n_components=64, poly__degree=2\n",
      "[CV 5/5; 18/24] END dt__max_depth=32, dt__min_samples_split=6, pca__n_components=64, poly__degree=2;, score=0.819 total time=   0.8s\n",
      "[CV 1/5; 19/24] START dt__max_depth=64, dt__min_samples_split=2, pca__n_components=32, poly__degree=2\n",
      "[CV 1/5; 19/24] END dt__max_depth=64, dt__min_samples_split=2, pca__n_components=32, poly__degree=2;, score=0.819 total time=   0.3s\n",
      "[CV 2/5; 19/24] START dt__max_depth=64, dt__min_samples_split=2, pca__n_components=32, poly__degree=2\n",
      "[CV 2/5; 19/24] END dt__max_depth=64, dt__min_samples_split=2, pca__n_components=32, poly__degree=2;, score=0.844 total time=   0.2s\n",
      "[CV 3/5; 19/24] START dt__max_depth=64, dt__min_samples_split=2, pca__n_components=32, poly__degree=2\n",
      "[CV 3/5; 19/24] END dt__max_depth=64, dt__min_samples_split=2, pca__n_components=32, poly__degree=2;, score=0.808 total time=   0.2s\n",
      "[CV 4/5; 19/24] START dt__max_depth=64, dt__min_samples_split=2, pca__n_components=32, poly__degree=2\n",
      "[CV 4/5; 19/24] END dt__max_depth=64, dt__min_samples_split=2, pca__n_components=32, poly__degree=2;, score=0.843 total time=   0.2s\n",
      "[CV 5/5; 19/24] START dt__max_depth=64, dt__min_samples_split=2, pca__n_components=32, poly__degree=2\n",
      "[CV 5/5; 19/24] END dt__max_depth=64, dt__min_samples_split=2, pca__n_components=32, poly__degree=2;, score=0.822 total time=   0.2s\n",
      "[CV 1/5; 20/24] START dt__max_depth=64, dt__min_samples_split=2, pca__n_components=64, poly__degree=2\n",
      "[CV 1/5; 20/24] END dt__max_depth=64, dt__min_samples_split=2, pca__n_components=64, poly__degree=2;, score=0.781 total time=   0.4s\n",
      "[CV 2/5; 20/24] START dt__max_depth=64, dt__min_samples_split=2, pca__n_components=64, poly__degree=2\n",
      "[CV 2/5; 20/24] END dt__max_depth=64, dt__min_samples_split=2, pca__n_components=64, poly__degree=2;, score=0.823 total time=   0.4s\n",
      "[CV 3/5; 20/24] START dt__max_depth=64, dt__min_samples_split=2, pca__n_components=64, poly__degree=2\n",
      "[CV 3/5; 20/24] END dt__max_depth=64, dt__min_samples_split=2, pca__n_components=64, poly__degree=2;, score=0.794 total time=   0.4s\n",
      "[CV 4/5; 20/24] START dt__max_depth=64, dt__min_samples_split=2, pca__n_components=64, poly__degree=2\n",
      "[CV 4/5; 20/24] END dt__max_depth=64, dt__min_samples_split=2, pca__n_components=64, poly__degree=2;, score=0.826 total time=   0.4s\n",
      "[CV 5/5; 20/24] START dt__max_depth=64, dt__min_samples_split=2, pca__n_components=64, poly__degree=2\n",
      "[CV 5/5; 20/24] END dt__max_depth=64, dt__min_samples_split=2, pca__n_components=64, poly__degree=2;, score=0.794 total time=   0.4s\n",
      "[CV 1/5; 21/24] START dt__max_depth=64, dt__min_samples_split=4, pca__n_components=32, poly__degree=2\n",
      "[CV 1/5; 21/24] END dt__max_depth=64, dt__min_samples_split=4, pca__n_components=32, poly__degree=2;, score=0.833 total time=   0.3s\n",
      "[CV 2/5; 21/24] START dt__max_depth=64, dt__min_samples_split=4, pca__n_components=32, poly__degree=2\n",
      "[CV 2/5; 21/24] END dt__max_depth=64, dt__min_samples_split=4, pca__n_components=32, poly__degree=2;, score=0.844 total time=   0.1s\n",
      "[CV 3/5; 21/24] START dt__max_depth=64, dt__min_samples_split=4, pca__n_components=32, poly__degree=2\n",
      "[CV 3/5; 21/24] END dt__max_depth=64, dt__min_samples_split=4, pca__n_components=32, poly__degree=2;, score=0.787 total time=   0.2s\n",
      "[CV 4/5; 21/24] START dt__max_depth=64, dt__min_samples_split=4, pca__n_components=32, poly__degree=2\n",
      "[CV 4/5; 21/24] END dt__max_depth=64, dt__min_samples_split=4, pca__n_components=32, poly__degree=2;, score=0.857 total time=   0.2s\n",
      "[CV 5/5; 21/24] START dt__max_depth=64, dt__min_samples_split=4, pca__n_components=32, poly__degree=2\n",
      "[CV 5/5; 21/24] END dt__max_depth=64, dt__min_samples_split=4, pca__n_components=32, poly__degree=2;, score=0.826 total time=   0.2s\n",
      "[CV 1/5; 22/24] START dt__max_depth=64, dt__min_samples_split=4, pca__n_components=64, poly__degree=2\n",
      "[CV 1/5; 22/24] END dt__max_depth=64, dt__min_samples_split=4, pca__n_components=64, poly__degree=2;, score=0.806 total time=   0.4s\n",
      "[CV 2/5; 22/24] START dt__max_depth=64, dt__min_samples_split=4, pca__n_components=64, poly__degree=2\n",
      "[CV 2/5; 22/24] END dt__max_depth=64, dt__min_samples_split=4, pca__n_components=64, poly__degree=2;, score=0.809 total time=   0.5s\n",
      "[CV 3/5; 22/24] START dt__max_depth=64, dt__min_samples_split=4, pca__n_components=64, poly__degree=2\n",
      "[CV 3/5; 22/24] END dt__max_depth=64, dt__min_samples_split=4, pca__n_components=64, poly__degree=2;, score=0.787 total time=   0.5s\n",
      "[CV 4/5; 22/24] START dt__max_depth=64, dt__min_samples_split=4, pca__n_components=64, poly__degree=2\n",
      "[CV 4/5; 22/24] END dt__max_depth=64, dt__min_samples_split=4, pca__n_components=64, poly__degree=2;, score=0.861 total time=   0.5s\n",
      "[CV 5/5; 22/24] START dt__max_depth=64, dt__min_samples_split=4, pca__n_components=64, poly__degree=2\n",
      "[CV 5/5; 22/24] END dt__max_depth=64, dt__min_samples_split=4, pca__n_components=64, poly__degree=2;, score=0.805 total time=   0.6s\n",
      "[CV 1/5; 23/24] START dt__max_depth=64, dt__min_samples_split=6, pca__n_components=32, poly__degree=2\n",
      "[CV 1/5; 23/24] END dt__max_depth=64, dt__min_samples_split=6, pca__n_components=32, poly__degree=2;, score=0.812 total time=   0.2s\n",
      "[CV 2/5; 23/24] START dt__max_depth=64, dt__min_samples_split=6, pca__n_components=32, poly__degree=2\n",
      "[CV 2/5; 23/24] END dt__max_depth=64, dt__min_samples_split=6, pca__n_components=32, poly__degree=2;, score=0.833 total time=   0.2s\n",
      "[CV 3/5; 23/24] START dt__max_depth=64, dt__min_samples_split=6, pca__n_components=32, poly__degree=2\n",
      "[CV 3/5; 23/24] END dt__max_depth=64, dt__min_samples_split=6, pca__n_components=32, poly__degree=2;, score=0.787 total time=   0.2s\n",
      "[CV 4/5; 23/24] START dt__max_depth=64, dt__min_samples_split=6, pca__n_components=32, poly__degree=2\n",
      "[CV 4/5; 23/24] END dt__max_depth=64, dt__min_samples_split=6, pca__n_components=32, poly__degree=2;, score=0.847 total time=   0.3s\n",
      "[CV 5/5; 23/24] START dt__max_depth=64, dt__min_samples_split=6, pca__n_components=32, poly__degree=2\n",
      "[CV 5/5; 23/24] END dt__max_depth=64, dt__min_samples_split=6, pca__n_components=32, poly__degree=2;, score=0.829 total time=   0.3s\n",
      "[CV 1/5; 24/24] START dt__max_depth=64, dt__min_samples_split=6, pca__n_components=64, poly__degree=2\n",
      "[CV 1/5; 24/24] END dt__max_depth=64, dt__min_samples_split=6, pca__n_components=64, poly__degree=2;, score=0.802 total time=   0.5s\n",
      "[CV 2/5; 24/24] START dt__max_depth=64, dt__min_samples_split=6, pca__n_components=64, poly__degree=2\n",
      "[CV 2/5; 24/24] END dt__max_depth=64, dt__min_samples_split=6, pca__n_components=64, poly__degree=2;, score=0.830 total time=   0.4s\n",
      "[CV 3/5; 24/24] START dt__max_depth=64, dt__min_samples_split=6, pca__n_components=64, poly__degree=2\n",
      "[CV 3/5; 24/24] END dt__max_depth=64, dt__min_samples_split=6, pca__n_components=64, poly__degree=2;, score=0.801 total time=   0.4s\n",
      "[CV 4/5; 24/24] START dt__max_depth=64, dt__min_samples_split=6, pca__n_components=64, poly__degree=2\n",
      "[CV 4/5; 24/24] END dt__max_depth=64, dt__min_samples_split=6, pca__n_components=64, poly__degree=2;, score=0.826 total time=   0.4s\n",
      "[CV 5/5; 24/24] START dt__max_depth=64, dt__min_samples_split=6, pca__n_components=64, poly__degree=2\n",
      "[CV 5/5; 24/24] END dt__max_depth=64, dt__min_samples_split=6, pca__n_components=64, poly__degree=2;, score=0.808 total time=   0.4s\n",
      "Precisión: 83.1% con {'dt__max_depth': 16, 'dt__min_samples_split': 4, 'pca__n_components': 32, 'poly__degree': 2}\n"
     ]
    }
   ],
   "source": [
    "from sklearn.decomposition import PCA\n",
    "from sklearn.datasets import load_digits\n",
    "from sklearn.pipeline import Pipeline \n",
    "from sklearn.preprocessing import PolynomialFeatures\n",
    "\n",
    "X, y = load_digits(return_X_y=True)\n",
    "X_train, X_test, y_train, y_test = train_test_split(X, y, test_size=0.2, shuffle=True, random_state=23)\n",
    "\n",
    "poly=PolynomialFeatures()\n",
    "pca=PCA()\n",
    "dt=DecisionTreeClassifier(random_state=23)\n",
    "\n",
    "pipe=Pipeline(steps=[(\"poly\", poly), (\"pca\", pca), (\"dt\", dt)])\n",
    "\n",
    "\n",
    "G = {\"pca__n_components\": [32, 64], \"poly__degree\": [2],\n",
    "     \"dt__max_depth\": [8,16,32,64], \"dt__min_samples_split\": [2, 4, 6]}\n",
    "\n",
    "# activo el verbose para ver lo que tarda cada fit\n",
    "GS = GridSearchCV(pipe, G, scoring='accuracy', refit=True, cv=5, verbose=10)\n",
    "acc = GS.fit(X_train, y_train).score(X_test, y_test)\n",
    "\n",
    "print(f'Precisión: {acc:.1%} con {GS.best_params_}')"
   ],
   "metadata": {
    "collapsed": false,
    "ExecuteTime": {
     "end_time": "2024-05-25T17:20:44.795179Z",
     "start_time": "2024-05-25T17:19:37.431641100Z"
    }
   },
   "execution_count": 4
  },
  {
   "cell_type": "code",
   "outputs": [
    {
     "name": "stdout",
     "output_type": "stream",
     "text": [
      "Precisión: 53.8% con {'dt__max_depth': 96, 'dt__min_samples_split': 2, 'pca__n_components': 32, 'poly__degree': 1}\n"
     ]
    }
   ],
   "source": [
    "from sklearn.decomposition import PCA\n",
    "from sklearn.datasets import fetch_olivetti_faces\n",
    "from sklearn.pipeline import Pipeline \n",
    "from sklearn.preprocessing import PolynomialFeatures\n",
    "\n",
    "X, y = fetch_olivetti_faces(return_X_y=True)\n",
    "X_train, X_test, y_train, y_test = train_test_split(X, y, test_size=0.2, shuffle=True, random_state=23)\n",
    "\n",
    "poly=PolynomialFeatures()\n",
    "pca=PCA()\n",
    "dt=DecisionTreeClassifier(random_state=23)\n",
    "\n",
    "pipe=Pipeline(steps=[(\"pca\", pca), (\"poly\", poly), (\"dt\", dt)])\n",
    "\n",
    "\n",
    "G = {\"pca__n_components\": [32, 64], \"poly__degree\": [1, 2],\n",
    "     \"dt__max_depth\": [8, 16, 32, 64, 96, 128], \"dt__min_samples_split\": [2, 4, 6]}\n",
    "\n",
    "GS = GridSearchCV(pipe, G, scoring='accuracy', refit=True, cv=5)\n",
    "acc = GS.fit(X_train, y_train).score(X_test, y_test)\n",
    "\n",
    "print(f'Precisión: {acc:.1%} con {GS.best_params_}')"
   ],
   "metadata": {
    "collapsed": false,
    "ExecuteTime": {
     "end_time": "2024-05-25T18:21:28.197597400Z",
     "start_time": "2024-05-25T18:15:41.414792100Z"
    }
   },
   "execution_count": 5
  }
 ],
 "metadata": {
  "kernelspec": {
   "display_name": "Python 3.7.3 64-bit",
   "language": "python",
   "name": "python3"
  },
  "language_info": {
   "codemirror_mode": {
    "name": "ipython",
    "version": 3
   },
   "file_extension": ".py",
   "mimetype": "text/x-python",
   "name": "python",
   "nbconvert_exporter": "python",
   "pygments_lexer": "ipython3",
   "version": "3.10.12"
  },
  "orig_nbformat": 4,
  "vscode": {
   "interpreter": {
    "hash": "31f2aee4e71d21fbe5cf8b01ff0e069b9275f58929596ceb00d14d90e3e16cd6"
   }
  }
 },
 "nbformat": 4,
 "nbformat_minor": 2
}
