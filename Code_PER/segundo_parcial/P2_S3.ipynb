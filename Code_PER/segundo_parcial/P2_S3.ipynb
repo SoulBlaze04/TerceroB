{
 "cells": [
  {
   "cell_type": "markdown",
   "metadata": {
    "id": "l2PZlNGRQDbb"
   },
   "source": [
    "# AdaBoost y Gradient boosting con árboles en un dataset de detección de spam\n",
    "\n",
    "Árboles de decisión y todos los ensembles propuestos funcionan en la práctica muy bien en datos tabulares como puede ser el problema de reconocimiento de spam en mails.\n",
    "\n",
    "Se propone pues emplear el dataset id=44 de openml de detección de Spam. Son un total de 4601 muestras con 57 características."
   ]
  },
  {
   "cell_type": "code",
   "execution_count": 3,
   "metadata": {
    "colab": {
     "base_uri": "https://localhost:8080/"
    },
    "id": "ZVshKIhiP7eq",
    "outputId": "89dcaeae-e1a5-4c3d-c3f8-368ff20c3c34",
    "ExecuteTime": {
     "end_time": "2024-06-19T21:52:24.171431700Z",
     "start_time": "2024-06-19T21:52:23.914500Z"
    }
   },
   "outputs": [
    {
     "name": "stdout",
     "output_type": "stream",
     "text": [
      "(4601, 57)\n"
     ]
    }
   ],
   "source": [
    "from sklearn.datasets import fetch_openml\n",
    "from sklearn.model_selection import train_test_split\n",
    "from warnings import filterwarnings\n",
    "\n",
    "## Descarga del dataset Spam\n",
    "filterwarnings('ignore')\n",
    "X, y = fetch_openml(data_id=44, as_frame=False, cache=True, return_X_y=True)\n",
    "print(X.shape)\n",
    "\n",
    "## Partición train/test\n",
    "X_train, X_test, y_train, y_test = train_test_split(X, y, test_size=0.2, shuffle=True, random_state=23)\n",
    "\n"
   ]
  },
  {
   "cell_type": "markdown",
   "metadata": {
    "id": "1TEnSUoZlLu0"
   },
   "source": [
    "## AdaBoost\n",
    "\n",
    "Probemos el clasificador de AdaBoost"
   ]
  },
  {
   "cell_type": "code",
   "execution_count": 3,
   "metadata": {
    "colab": {
     "base_uri": "https://localhost:8080/"
    },
    "id": "hZnYD265lPFb",
    "outputId": "b4a3379c-ec5d-4068-94fb-b9b512663b06",
    "ExecuteTime": {
     "end_time": "2024-05-25T18:41:07.610764900Z",
     "start_time": "2024-05-25T18:41:06.658774Z"
    }
   },
   "outputs": [
    {
     "name": "stdout",
     "output_type": "stream",
     "text": [
      "Precisión: 93.8%\n"
     ]
    }
   ],
   "source": [
    "from sklearn.ensemble import AdaBoostClassifier\n",
    "\n",
    "ab = AdaBoostClassifier()\n",
    "\n",
    "acc=ab.fit(X_train, y_train).score(X_test, y_test)\n",
    "\n",
    "print(f'Precisión: {acc:.1%}')\n"
   ]
  },
  {
   "cell_type": "markdown",
   "metadata": {
    "id": "2yHIBSvSlWe-"
   },
   "source": [
    "**Ejercicio** Teniendo en cuenta la documentación [AdaBoost](https://scikit-learn.org/stable/modules/generated/sklearn.ensemble.AdaBoostClassifier.html) prueba mediante grid search a encontrar mejores parámetros."
   ]
  },
  {
   "cell_type": "code",
   "outputs": [
    {
     "name": "stdout",
     "output_type": "stream",
     "text": [
      "Precisión: 94.9% con {'learning_rate': 0.5, 'n_estimators': 50}\n"
     ]
    }
   ],
   "source": [
    "from sklearn.model_selection import GridSearchCV\n",
    "\n",
    "G = {\"n_estimators\": [2, 5, 10, 20, 50], \"learning_rate\": [0.01, 0.1, 0.3, 0.5, 0.7, 1]}\n",
    "\n",
    "GS = GridSearchCV(ab, G, scoring='accuracy', refit=True, cv=5)\n",
    "acc = GS.fit(X_train, y_train).score(X_test, y_test)\n",
    "print(f'Precisión: {acc:.1%} con {GS.best_params_}')"
   ],
   "metadata": {
    "collapsed": false,
    "ExecuteTime": {
     "end_time": "2024-05-25T18:41:38.408153800Z",
     "start_time": "2024-05-25T18:41:09.936962400Z"
    }
   },
   "execution_count": 4
  },
  {
   "cell_type": "markdown",
   "metadata": {
    "id": "gEkiZLVvQZEb"
   },
   "source": [
    "## GradientBoostingClassifier\n",
    "\n",
    "Probemos el clasificador Gradient Boosting"
   ]
  },
  {
   "cell_type": "code",
   "execution_count": 4,
   "metadata": {
    "colab": {
     "base_uri": "https://localhost:8080/"
    },
    "id": "Qg3WfwU0Qcj7",
    "outputId": "faa1c9d7-9fc1-461a-99c9-3d41be462e3a",
    "ExecuteTime": {
     "end_time": "2024-06-19T21:52:29.827089400Z",
     "start_time": "2024-06-19T21:52:26.649709Z"
    }
   },
   "outputs": [
    {
     "name": "stdout",
     "output_type": "stream",
     "text": [
      "Precisión: 95.0%\n"
     ]
    }
   ],
   "source": [
    "from sklearn.ensemble import GradientBoostingClassifier\n",
    "\n",
    "gb = GradientBoostingClassifier()\n",
    "\n",
    "acc=gb.fit(X_train, y_train).score(X_test, y_test)\n",
    "\n",
    "print(f'Precisión: {acc:.1%}')\n"
   ]
  },
  {
   "cell_type": "markdown",
   "metadata": {
    "id": "SXAzloCaRP8S"
   },
   "source": [
    "Los principales parámetros del GradientBoosting son:\n",
    "* n_estimators (100)\n",
    "* max_depth (3)\n",
    "* max_features\n",
    "\n",
    "**Ejercicio** prueba diferentes valores (lógicos) de estos parámetros mediante GridSearch."
   ]
  },
  {
   "cell_type": "code",
   "outputs": [
    {
     "name": "stdout",
     "output_type": "stream",
     "text": [
      "Precisión: 95.7% con {'max_depth': 10, 'max_features': 20, 'n_estimators': 50}\n"
     ]
    }
   ],
   "source": [
    "from sklearn.model_selection import GridSearchCV\n",
    "\n",
    "G = {\"n_estimators\": [2, 5, 10, 20, 50], \"max_depth\": [2, 3, 5, 10, 20], \"max_features\":[10, 20, 30, 40, 50]}\n",
    "\n",
    "GS = GridSearchCV(gb, G, scoring='accuracy', refit=True, cv=5)\n",
    "acc = GS.fit(X_train, y_train).score(X_test, y_test)\n",
    "print(f'Precisión: {acc:.1%} con {GS.best_params_}')"
   ],
   "metadata": {
    "collapsed": false,
    "ExecuteTime": {
     "end_time": "2024-05-25T19:55:27.331706200Z",
     "start_time": "2024-05-25T19:45:49.915311500Z"
    }
   },
   "execution_count": 7
  },
  {
   "cell_type": "markdown",
   "metadata": {
    "id": "zR_t1qOVXtTP"
   },
   "source": [
    "### Acelerar la búsqueda de parámetros: RandomizedSearch\n",
    "\n",
    "Un problema recurrente que tenemos en estos experimentos es el coste temporal de encontrar los mejores parámetros mediante GridSearch. Una alternativa que reduce dicho coste temporal es el [RandomizedSearchCV](https://scikit-learn.org/stable/modules/generated/sklearn.model_selection.RandomizedSearchCV.html)\n",
    "\n",
    "**Ejercicio** Implementa la misma búsqueda de valores que has realizado con GridSearch pero ahora con RandomizedSearch con n_iter=10 para limitar el número de pruebas a 10."
   ]
  },
  {
   "cell_type": "code",
   "outputs": [
    {
     "name": "stdout",
     "output_type": "stream",
     "text": [
      "Fitting 5 folds for each of 10 candidates, totalling 50 fits\n",
      "[CV 1/5; 1/10] START max_depth=1, max_features=57, n_estimators=150.............\n",
      "[CV 1/5; 1/10] END max_depth=1, max_features=57, n_estimators=150;, score=0.942 total time=   1.8s\n",
      "[CV 2/5; 1/10] START max_depth=1, max_features=57, n_estimators=150.............\n",
      "[CV 2/5; 1/10] END max_depth=1, max_features=57, n_estimators=150;, score=0.924 total time=   1.0s\n",
      "[CV 3/5; 1/10] START max_depth=1, max_features=57, n_estimators=150.............\n",
      "[CV 3/5; 1/10] END max_depth=1, max_features=57, n_estimators=150;, score=0.944 total time=   1.0s\n",
      "[CV 4/5; 1/10] START max_depth=1, max_features=57, n_estimators=150.............\n",
      "[CV 4/5; 1/10] END max_depth=1, max_features=57, n_estimators=150;, score=0.933 total time=   1.1s\n",
      "[CV 5/5; 1/10] START max_depth=1, max_features=57, n_estimators=150.............\n",
      "[CV 5/5; 1/10] END max_depth=1, max_features=57, n_estimators=150;, score=0.938 total time=   1.5s\n",
      "[CV 1/5; 2/10] START max_depth=3, max_features=30, n_estimators=150.............\n",
      "[CV 1/5; 2/10] END max_depth=3, max_features=30, n_estimators=150;, score=0.946 total time=   2.9s\n",
      "[CV 2/5; 2/10] START max_depth=3, max_features=30, n_estimators=150.............\n",
      "[CV 2/5; 2/10] END max_depth=3, max_features=30, n_estimators=150;, score=0.948 total time=   2.3s\n",
      "[CV 3/5; 2/10] START max_depth=3, max_features=30, n_estimators=150.............\n",
      "[CV 3/5; 2/10] END max_depth=3, max_features=30, n_estimators=150;, score=0.955 total time=   1.7s\n",
      "[CV 4/5; 2/10] START max_depth=3, max_features=30, n_estimators=150.............\n",
      "[CV 4/5; 2/10] END max_depth=3, max_features=30, n_estimators=150;, score=0.940 total time=   1.8s\n",
      "[CV 5/5; 2/10] START max_depth=3, max_features=30, n_estimators=150.............\n",
      "[CV 5/5; 2/10] END max_depth=3, max_features=30, n_estimators=150;, score=0.958 total time=   2.2s\n",
      "[CV 1/5; 3/10] START max_depth=5, max_features=57, n_estimators=100.............\n",
      "[CV 1/5; 3/10] END max_depth=5, max_features=57, n_estimators=100;, score=0.947 total time=   4.4s\n",
      "[CV 2/5; 3/10] START max_depth=5, max_features=57, n_estimators=100.............\n",
      "[CV 2/5; 3/10] END max_depth=5, max_features=57, n_estimators=100;, score=0.946 total time=   4.4s\n",
      "[CV 3/5; 3/10] START max_depth=5, max_features=57, n_estimators=100.............\n",
      "[CV 3/5; 3/10] END max_depth=5, max_features=57, n_estimators=100;, score=0.959 total time=   4.9s\n",
      "[CV 4/5; 3/10] START max_depth=5, max_features=57, n_estimators=100.............\n",
      "[CV 4/5; 3/10] END max_depth=5, max_features=57, n_estimators=100;, score=0.943 total time=   4.4s\n",
      "[CV 5/5; 3/10] START max_depth=5, max_features=57, n_estimators=100.............\n",
      "[CV 5/5; 3/10] END max_depth=5, max_features=57, n_estimators=100;, score=0.958 total time=   4.6s\n",
      "[CV 1/5; 4/10] START max_depth=2, max_features=30, n_estimators=200.............\n",
      "[CV 1/5; 4/10] END max_depth=2, max_features=30, n_estimators=200;, score=0.947 total time=   1.7s\n",
      "[CV 2/5; 4/10] START max_depth=2, max_features=30, n_estimators=200.............\n",
      "[CV 2/5; 4/10] END max_depth=2, max_features=30, n_estimators=200;, score=0.946 total time=   1.6s\n",
      "[CV 3/5; 4/10] START max_depth=2, max_features=30, n_estimators=200.............\n",
      "[CV 3/5; 4/10] END max_depth=2, max_features=30, n_estimators=200;, score=0.955 total time=   1.5s\n",
      "[CV 4/5; 4/10] START max_depth=2, max_features=30, n_estimators=200.............\n",
      "[CV 4/5; 4/10] END max_depth=2, max_features=30, n_estimators=200;, score=0.943 total time=   1.8s\n",
      "[CV 5/5; 4/10] START max_depth=2, max_features=30, n_estimators=200.............\n",
      "[CV 5/5; 4/10] END max_depth=2, max_features=30, n_estimators=200;, score=0.954 total time=   2.1s\n",
      "[CV 1/5; 5/10] START max_depth=3, max_features=57, n_estimators=150.............\n",
      "[CV 1/5; 5/10] END max_depth=3, max_features=57, n_estimators=150;, score=0.944 total time=   3.5s\n",
      "[CV 2/5; 5/10] START max_depth=3, max_features=57, n_estimators=150.............\n",
      "[CV 2/5; 5/10] END max_depth=3, max_features=57, n_estimators=150;, score=0.946 total time=   3.2s\n",
      "[CV 3/5; 5/10] START max_depth=3, max_features=57, n_estimators=150.............\n",
      "[CV 3/5; 5/10] END max_depth=3, max_features=57, n_estimators=150;, score=0.951 total time=   4.1s\n",
      "[CV 4/5; 5/10] START max_depth=3, max_features=57, n_estimators=150.............\n",
      "[CV 4/5; 5/10] END max_depth=3, max_features=57, n_estimators=150;, score=0.939 total time=   3.4s\n",
      "[CV 5/5; 5/10] START max_depth=3, max_features=57, n_estimators=150.............\n",
      "[CV 5/5; 5/10] END max_depth=3, max_features=57, n_estimators=150;, score=0.957 total time=   3.5s\n",
      "[CV 1/5; 6/10] START max_depth=2, max_features=10, n_estimators=150.............\n",
      "[CV 1/5; 6/10] END max_depth=2, max_features=10, n_estimators=150;, score=0.947 total time=   0.5s\n",
      "[CV 2/5; 6/10] START max_depth=2, max_features=10, n_estimators=150.............\n",
      "[CV 2/5; 6/10] END max_depth=2, max_features=10, n_estimators=150;, score=0.938 total time=   0.5s\n",
      "[CV 3/5; 6/10] START max_depth=2, max_features=10, n_estimators=150.............\n",
      "[CV 3/5; 6/10] END max_depth=2, max_features=10, n_estimators=150;, score=0.957 total time=   0.5s\n",
      "[CV 4/5; 6/10] START max_depth=2, max_features=10, n_estimators=150.............\n",
      "[CV 4/5; 6/10] END max_depth=2, max_features=10, n_estimators=150;, score=0.938 total time=   0.5s\n",
      "[CV 5/5; 6/10] START max_depth=2, max_features=10, n_estimators=150.............\n",
      "[CV 5/5; 6/10] END max_depth=2, max_features=10, n_estimators=150;, score=0.952 total time=   0.6s\n",
      "[CV 1/5; 7/10] START max_depth=3, max_features=20, n_estimators=100.............\n",
      "[CV 1/5; 7/10] END max_depth=3, max_features=20, n_estimators=100;, score=0.951 total time=   0.9s\n",
      "[CV 2/5; 7/10] START max_depth=3, max_features=20, n_estimators=100.............\n",
      "[CV 2/5; 7/10] END max_depth=3, max_features=20, n_estimators=100;, score=0.940 total time=   0.8s\n",
      "[CV 3/5; 7/10] START max_depth=3, max_features=20, n_estimators=100.............\n",
      "[CV 3/5; 7/10] END max_depth=3, max_features=20, n_estimators=100;, score=0.951 total time=   0.8s\n",
      "[CV 4/5; 7/10] START max_depth=3, max_features=20, n_estimators=100.............\n",
      "[CV 4/5; 7/10] END max_depth=3, max_features=20, n_estimators=100;, score=0.942 total time=   0.8s\n",
      "[CV 5/5; 7/10] START max_depth=3, max_features=20, n_estimators=100.............\n",
      "[CV 5/5; 7/10] END max_depth=3, max_features=20, n_estimators=100;, score=0.954 total time=   0.7s\n",
      "[CV 1/5; 8/10] START max_depth=1, max_features=40, n_estimators=50..............\n",
      "[CV 1/5; 8/10] END max_depth=1, max_features=40, n_estimators=50;, score=0.921 total time=   0.2s\n",
      "[CV 2/5; 8/10] START max_depth=1, max_features=40, n_estimators=50..............\n",
      "[CV 2/5; 8/10] END max_depth=1, max_features=40, n_estimators=50;, score=0.908 total time=   0.2s\n",
      "[CV 3/5; 8/10] START max_depth=1, max_features=40, n_estimators=50..............\n",
      "[CV 3/5; 8/10] END max_depth=1, max_features=40, n_estimators=50;, score=0.921 total time=   0.2s\n",
      "[CV 4/5; 8/10] START max_depth=1, max_features=40, n_estimators=50..............\n",
      "[CV 4/5; 8/10] END max_depth=1, max_features=40, n_estimators=50;, score=0.914 total time=   0.2s\n",
      "[CV 5/5; 8/10] START max_depth=1, max_features=40, n_estimators=50..............\n",
      "[CV 5/5; 8/10] END max_depth=1, max_features=40, n_estimators=50;, score=0.914 total time=   0.2s\n",
      "[CV 1/5; 9/10] START max_depth=2, max_features=10, n_estimators=200.............\n",
      "[CV 1/5; 9/10] END max_depth=2, max_features=10, n_estimators=200;, score=0.943 total time=   0.8s\n",
      "[CV 2/5; 9/10] START max_depth=2, max_features=10, n_estimators=200.............\n",
      "[CV 2/5; 9/10] END max_depth=2, max_features=10, n_estimators=200;, score=0.939 total time=   0.9s\n",
      "[CV 3/5; 9/10] START max_depth=2, max_features=10, n_estimators=200.............\n",
      "[CV 3/5; 9/10] END max_depth=2, max_features=10, n_estimators=200;, score=0.955 total time=   0.9s\n",
      "[CV 4/5; 9/10] START max_depth=2, max_features=10, n_estimators=200.............\n",
      "[CV 4/5; 9/10] END max_depth=2, max_features=10, n_estimators=200;, score=0.940 total time=   0.8s\n",
      "[CV 5/5; 9/10] START max_depth=2, max_features=10, n_estimators=200.............\n",
      "[CV 5/5; 9/10] END max_depth=2, max_features=10, n_estimators=200;, score=0.952 total time=   0.9s\n",
      "[CV 1/5; 10/10] START max_depth=5, max_features=57, n_estimators=50.............\n",
      "[CV 1/5; 10/10] END max_depth=5, max_features=57, n_estimators=50;, score=0.943 total time=   2.1s\n",
      "[CV 2/5; 10/10] START max_depth=5, max_features=57, n_estimators=50.............\n",
      "[CV 2/5; 10/10] END max_depth=5, max_features=57, n_estimators=50;, score=0.944 total time=   2.0s\n",
      "[CV 3/5; 10/10] START max_depth=5, max_features=57, n_estimators=50.............\n",
      "[CV 3/5; 10/10] END max_depth=5, max_features=57, n_estimators=50;, score=0.951 total time=   2.2s\n",
      "[CV 4/5; 10/10] START max_depth=5, max_features=57, n_estimators=50.............\n",
      "[CV 4/5; 10/10] END max_depth=5, max_features=57, n_estimators=50;, score=0.940 total time=   2.5s\n",
      "[CV 5/5; 10/10] START max_depth=5, max_features=57, n_estimators=50.............\n",
      "[CV 5/5; 10/10] END max_depth=5, max_features=57, n_estimators=50;, score=0.947 total time=   2.2s\n",
      "Precisión: 95.4% con {'n_estimators': 100, 'max_features': 57, 'max_depth': 5}\n"
     ]
    }
   ],
   "source": [
    "from sklearn.model_selection import RandomizedSearchCV\n",
    "\n",
    "G = {\"max_depth\": [1,2,3,4,5],\"n_estimators\":[50,100,150,200],\"max_features\":[10,20,30,40,57]}\n",
    "\n",
    "# Probar sólo 10 combinaciones de parámetros, n_iter=10\n",
    "RS = RandomizedSearchCV(GradientBoostingClassifier(), G, scoring='accuracy', n_iter=10, refit=True, cv=5, verbose=10)\n",
    "\n",
    "acc = RS.fit(X_train, y_train).score(X_test, y_test)\n",
    "print(f'Precisión: {acc:.1%} con {RS.best_params_}')\n"
   ],
   "metadata": {
    "collapsed": false,
    "ExecuteTime": {
     "end_time": "2024-06-19T21:54:13.016656400Z",
     "start_time": "2024-06-19T21:52:33.967128900Z"
    }
   },
   "execution_count": 5
  },
  {
   "cell_type": "markdown",
   "metadata": {
    "id": "nvCsOZ0XZpM1"
   },
   "source": [
    "### Mejorar la búsqueda de parámetros: BayesianOptimization\n",
    "\n",
    "Optimización Bayesiana es una técnica avanzada de búsqueda de parámetros. Para poder emplearla hay que instalar la librería scikit-optimize. El uso de dicha técnica es similar a las ya empleadas con la diferencia que el rango de los parámetros hay que definirlos teniendo en cuenta además el tipo de los mismos: real, entero o categórico. Además los valores a probar no se listan explícitamente si no que se especifica un rango dentro del cual el algoritmo escogerá los valores.\n",
    "\n",
    "La ejecución puede resultar más lenta pero se pueden explorar más parámetros, de hecho se especifica un intervalo en lugar de valores concretos.\n",
    "\n"
   ]
  },
  {
   "cell_type": "code",
   "execution_count": 8,
   "metadata": {
    "colab": {
     "base_uri": "https://localhost:8080/"
    },
    "id": "_p7KIfXTaZ_6",
    "outputId": "5bd6d67f-8fa5-4835-aedf-f9dc5a26d12a",
    "ExecuteTime": {
     "end_time": "2024-05-25T20:00:20.796600600Z",
     "start_time": "2024-05-25T20:00:13.669630800Z"
    }
   },
   "outputs": [
    {
     "name": "stdout",
     "output_type": "stream",
     "text": [
      "Collecting scikit-optimize\n",
      "  Obtaining dependency information for scikit-optimize from https://files.pythonhosted.org/packages/90/0e/15deb91b3db0003843e34e72fa865e1d92013781d986fdc65483c99a9f69/scikit_optimize-0.10.1-py2.py3-none-any.whl.metadata\n",
      "  Downloading scikit_optimize-0.10.1-py2.py3-none-any.whl.metadata (9.7 kB)\n",
      "Requirement already satisfied: joblib>=0.11 in c:\\users\\usuario\\appdata\\local\\programs\\python\\python311\\lib\\site-packages (from scikit-optimize) (1.3.2)\n",
      "Collecting pyaml>=16.9 (from scikit-optimize)\n",
      "  Obtaining dependency information for pyaml>=16.9 from https://files.pythonhosted.org/packages/70/d9/6fdc01cee01fe56fddfd46892d9846ebb53a5f8eb78056955c516eef42c5/pyaml-24.4.0-py3-none-any.whl.metadata\n",
      "  Downloading pyaml-24.4.0-py3-none-any.whl.metadata (11 kB)\n",
      "Requirement already satisfied: numpy>=1.20.3 in c:\\users\\usuario\\appdata\\local\\programs\\python\\python311\\lib\\site-packages (from scikit-optimize) (1.26.3)\n",
      "Requirement already satisfied: scipy>=1.1.0 in c:\\users\\usuario\\appdata\\local\\programs\\python\\python311\\lib\\site-packages (from scikit-optimize) (1.11.4)\n",
      "Requirement already satisfied: scikit-learn>=1.0.0 in c:\\users\\usuario\\appdata\\local\\programs\\python\\python311\\lib\\site-packages (from scikit-optimize) (1.3.2)\n",
      "Requirement already satisfied: packaging>=21.3 in c:\\users\\usuario\\appdata\\local\\programs\\python\\python311\\lib\\site-packages (from scikit-optimize) (23.2)\n",
      "Requirement already satisfied: PyYAML in c:\\users\\usuario\\appdata\\local\\programs\\python\\python311\\lib\\site-packages (from pyaml>=16.9->scikit-optimize) (6.0.1)\n",
      "Requirement already satisfied: threadpoolctl>=2.0.0 in c:\\users\\usuario\\appdata\\local\\programs\\python\\python311\\lib\\site-packages (from scikit-learn>=1.0.0->scikit-optimize) (3.2.0)\n",
      "Downloading scikit_optimize-0.10.1-py2.py3-none-any.whl (107 kB)\n",
      "   ---------------------------------------- 0.0/107.7 kB ? eta -:--:--\n",
      "   --- ------------------------------------ 10.2/107.7 kB ? eta -:--:--\n",
      "   ---------------------------------------- 107.7/107.7 kB 2.1 MB/s eta 0:00:00\n",
      "Downloading pyaml-24.4.0-py3-none-any.whl (24 kB)\n",
      "Installing collected packages: pyaml, scikit-optimize\n",
      "Successfully installed pyaml-24.4.0 scikit-optimize-0.10.1\n"
     ]
    },
    {
     "name": "stderr",
     "output_type": "stream",
     "text": [
      "\n",
      "[notice] A new release of pip is available: 23.2.1 -> 24.0\n",
      "[notice] To update, run: python.exe -m pip install --upgrade pip\n"
     ]
    }
   ],
   "source": [
    "!pip install scikit-optimize"
   ]
  },
  {
   "cell_type": "code",
   "execution_count": 11,
   "metadata": {
    "colab": {
     "base_uri": "https://localhost:8080/"
    },
    "id": "JHMW_KMhZscb",
    "outputId": "cb6529d7-6176-49e5-8807-789c03f2b507",
    "ExecuteTime": {
     "end_time": "2024-05-25T20:05:21.440949700Z",
     "start_time": "2024-05-25T20:03:09.904370800Z"
    }
   },
   "outputs": [
    {
     "name": "stdout",
     "output_type": "stream",
     "text": [
      "Fitting 5 folds for each of 1 candidates, totalling 5 fits\n",
      "[CV 1/5; 1/1] START max_depth=1, max_features=24, n_estimators=86...............\n",
      "[CV 1/5; 1/1] END max_depth=1, max_features=24, n_estimators=86;, score=0.931 total time=   0.4s\n",
      "[CV 2/5; 1/1] START max_depth=1, max_features=24, n_estimators=86...............\n",
      "[CV 2/5; 1/1] END max_depth=1, max_features=24, n_estimators=86;, score=0.910 total time=   0.6s\n",
      "[CV 3/5; 1/1] START max_depth=1, max_features=24, n_estimators=86...............\n",
      "[CV 3/5; 1/1] END max_depth=1, max_features=24, n_estimators=86;, score=0.933 total time=   0.4s\n",
      "[CV 4/5; 1/1] START max_depth=1, max_features=24, n_estimators=86...............\n",
      "[CV 4/5; 1/1] END max_depth=1, max_features=24, n_estimators=86;, score=0.928 total time=   0.3s\n",
      "[CV 5/5; 1/1] START max_depth=1, max_features=24, n_estimators=86...............\n",
      "[CV 5/5; 1/1] END max_depth=1, max_features=24, n_estimators=86;, score=0.921 total time=   0.4s\n",
      "Fitting 5 folds for each of 1 candidates, totalling 5 fits\n",
      "[CV 1/5; 1/1] START max_depth=3, max_features=48, n_estimators=165..............\n",
      "[CV 1/5; 1/1] END max_depth=3, max_features=48, n_estimators=165;, score=0.944 total time=   3.7s\n",
      "[CV 2/5; 1/1] START max_depth=3, max_features=48, n_estimators=165..............\n",
      "[CV 2/5; 1/1] END max_depth=3, max_features=48, n_estimators=165;, score=0.947 total time=   4.0s\n",
      "[CV 3/5; 1/1] START max_depth=3, max_features=48, n_estimators=165..............\n",
      "[CV 3/5; 1/1] END max_depth=3, max_features=48, n_estimators=165;, score=0.946 total time=   3.6s\n",
      "[CV 4/5; 1/1] START max_depth=3, max_features=48, n_estimators=165..............\n",
      "[CV 4/5; 1/1] END max_depth=3, max_features=48, n_estimators=165;, score=0.938 total time=   4.2s\n",
      "[CV 5/5; 1/1] START max_depth=3, max_features=48, n_estimators=165..............\n",
      "[CV 5/5; 1/1] END max_depth=3, max_features=48, n_estimators=165;, score=0.955 total time=   3.8s\n",
      "Fitting 5 folds for each of 1 candidates, totalling 5 fits\n",
      "[CV 1/5; 1/1] START max_depth=4, max_features=50, n_estimators=275..............\n",
      "[CV 1/5; 1/1] END max_depth=4, max_features=50, n_estimators=275;, score=0.957 total time=   8.4s\n",
      "[CV 2/5; 1/1] START max_depth=4, max_features=50, n_estimators=275..............\n",
      "[CV 2/5; 1/1] END max_depth=4, max_features=50, n_estimators=275;, score=0.951 total time=   8.1s\n",
      "[CV 3/5; 1/1] START max_depth=4, max_features=50, n_estimators=275..............\n",
      "[CV 3/5; 1/1] END max_depth=4, max_features=50, n_estimators=275;, score=0.959 total time=   9.2s\n",
      "[CV 4/5; 1/1] START max_depth=4, max_features=50, n_estimators=275..............\n",
      "[CV 4/5; 1/1] END max_depth=4, max_features=50, n_estimators=275;, score=0.946 total time=   9.2s\n",
      "[CV 5/5; 1/1] START max_depth=4, max_features=50, n_estimators=275..............\n",
      "[CV 5/5; 1/1] END max_depth=4, max_features=50, n_estimators=275;, score=0.959 total time=   7.9s\n",
      "Fitting 5 folds for each of 1 candidates, totalling 5 fits\n",
      "[CV 1/5; 1/1] START max_depth=1, max_features=30, n_estimators=109..............\n",
      "[CV 1/5; 1/1] END max_depth=1, max_features=30, n_estimators=109;, score=0.935 total time=   0.5s\n",
      "[CV 2/5; 1/1] START max_depth=1, max_features=30, n_estimators=109..............\n",
      "[CV 2/5; 1/1] END max_depth=1, max_features=30, n_estimators=109;, score=0.913 total time=   0.5s\n",
      "[CV 3/5; 1/1] START max_depth=1, max_features=30, n_estimators=109..............\n",
      "[CV 3/5; 1/1] END max_depth=1, max_features=30, n_estimators=109;, score=0.938 total time=   0.5s\n",
      "[CV 4/5; 1/1] START max_depth=1, max_features=30, n_estimators=109..............\n",
      "[CV 4/5; 1/1] END max_depth=1, max_features=30, n_estimators=109;, score=0.928 total time=   0.6s\n",
      "[CV 5/5; 1/1] START max_depth=1, max_features=30, n_estimators=109..............\n",
      "[CV 5/5; 1/1] END max_depth=1, max_features=30, n_estimators=109;, score=0.936 total time=   0.5s\n",
      "Fitting 5 folds for each of 1 candidates, totalling 5 fits\n",
      "[CV 1/5; 1/1] START max_depth=2, max_features=55, n_estimators=97...............\n",
      "[CV 1/5; 1/1] END max_depth=2, max_features=55, n_estimators=97;, score=0.943 total time=   1.6s\n",
      "[CV 2/5; 1/1] START max_depth=2, max_features=55, n_estimators=97...............\n",
      "[CV 2/5; 1/1] END max_depth=2, max_features=55, n_estimators=97;, score=0.933 total time=   1.4s\n",
      "[CV 3/5; 1/1] START max_depth=2, max_features=55, n_estimators=97...............\n",
      "[CV 3/5; 1/1] END max_depth=2, max_features=55, n_estimators=97;, score=0.944 total time=   1.4s\n",
      "[CV 4/5; 1/1] START max_depth=2, max_features=55, n_estimators=97...............\n",
      "[CV 4/5; 1/1] END max_depth=2, max_features=55, n_estimators=97;, score=0.933 total time=   1.7s\n",
      "[CV 5/5; 1/1] START max_depth=2, max_features=55, n_estimators=97...............\n",
      "[CV 5/5; 1/1] END max_depth=2, max_features=55, n_estimators=97;, score=0.950 total time=   1.7s\n",
      "Fitting 5 folds for each of 1 candidates, totalling 5 fits\n",
      "[CV 1/5; 1/1] START max_depth=4, max_features=14, n_estimators=195..............\n",
      "[CV 1/5; 1/1] END max_depth=4, max_features=14, n_estimators=195;, score=0.950 total time=   1.7s\n",
      "[CV 2/5; 1/1] START max_depth=4, max_features=14, n_estimators=195..............\n",
      "[CV 2/5; 1/1] END max_depth=4, max_features=14, n_estimators=195;, score=0.951 total time=   1.7s\n",
      "[CV 3/5; 1/1] START max_depth=4, max_features=14, n_estimators=195..............\n",
      "[CV 3/5; 1/1] END max_depth=4, max_features=14, n_estimators=195;, score=0.958 total time=   2.1s\n",
      "[CV 4/5; 1/1] START max_depth=4, max_features=14, n_estimators=195..............\n",
      "[CV 4/5; 1/1] END max_depth=4, max_features=14, n_estimators=195;, score=0.948 total time=   1.8s\n",
      "[CV 5/5; 1/1] START max_depth=4, max_features=14, n_estimators=195..............\n",
      "[CV 5/5; 1/1] END max_depth=4, max_features=14, n_estimators=195;, score=0.961 total time=   1.8s\n",
      "Fitting 5 folds for each of 1 candidates, totalling 5 fits\n",
      "[CV 1/5; 1/1] START max_depth=2, max_features=23, n_estimators=78...............\n",
      "[CV 1/5; 1/1] END max_depth=2, max_features=23, n_estimators=78;, score=0.939 total time=   0.5s\n",
      "[CV 2/5; 1/1] START max_depth=2, max_features=23, n_estimators=78...............\n",
      "[CV 2/5; 1/1] END max_depth=2, max_features=23, n_estimators=78;, score=0.929 total time=   0.5s\n",
      "[CV 3/5; 1/1] START max_depth=2, max_features=23, n_estimators=78...............\n",
      "[CV 3/5; 1/1] END max_depth=2, max_features=23, n_estimators=78;, score=0.944 total time=   0.5s\n",
      "[CV 4/5; 1/1] START max_depth=2, max_features=23, n_estimators=78...............\n",
      "[CV 4/5; 1/1] END max_depth=2, max_features=23, n_estimators=78;, score=0.931 total time=   0.6s\n",
      "[CV 5/5; 1/1] START max_depth=2, max_features=23, n_estimators=78...............\n",
      "[CV 5/5; 1/1] END max_depth=2, max_features=23, n_estimators=78;, score=0.938 total time=   0.5s\n",
      "Fitting 5 folds for each of 1 candidates, totalling 5 fits\n",
      "[CV 1/5; 1/1] START max_depth=5, max_features=12, n_estimators=219..............\n",
      "[CV 1/5; 1/1] END max_depth=5, max_features=12, n_estimators=219;, score=0.951 total time=   2.2s\n",
      "[CV 2/5; 1/1] START max_depth=5, max_features=12, n_estimators=219..............\n",
      "[CV 2/5; 1/1] END max_depth=5, max_features=12, n_estimators=219;, score=0.961 total time=   2.2s\n",
      "[CV 3/5; 1/1] START max_depth=5, max_features=12, n_estimators=219..............\n",
      "[CV 3/5; 1/1] END max_depth=5, max_features=12, n_estimators=219;, score=0.963 total time=   2.4s\n",
      "[CV 4/5; 1/1] START max_depth=5, max_features=12, n_estimators=219..............\n",
      "[CV 4/5; 1/1] END max_depth=5, max_features=12, n_estimators=219;, score=0.946 total time=   2.1s\n",
      "[CV 5/5; 1/1] START max_depth=5, max_features=12, n_estimators=219..............\n",
      "[CV 5/5; 1/1] END max_depth=5, max_features=12, n_estimators=219;, score=0.959 total time=   2.5s\n",
      "Fitting 5 folds for each of 1 candidates, totalling 5 fits\n",
      "[CV 1/5; 1/1] START max_depth=2, max_features=17, n_estimators=370..............\n",
      "[CV 1/5; 1/1] END max_depth=2, max_features=17, n_estimators=370;, score=0.939 total time=   2.1s\n",
      "[CV 2/5; 1/1] START max_depth=2, max_features=17, n_estimators=370..............\n",
      "[CV 2/5; 1/1] END max_depth=2, max_features=17, n_estimators=370;, score=0.946 total time=   2.0s\n",
      "[CV 3/5; 1/1] START max_depth=2, max_features=17, n_estimators=370..............\n",
      "[CV 3/5; 1/1] END max_depth=2, max_features=17, n_estimators=370;, score=0.959 total time=   2.1s\n",
      "[CV 4/5; 1/1] START max_depth=2, max_features=17, n_estimators=370..............\n",
      "[CV 4/5; 1/1] END max_depth=2, max_features=17, n_estimators=370;, score=0.940 total time=   2.4s\n",
      "[CV 5/5; 1/1] START max_depth=2, max_features=17, n_estimators=370..............\n",
      "[CV 5/5; 1/1] END max_depth=2, max_features=17, n_estimators=370;, score=0.955 total time=   2.4s\n",
      "Fitting 5 folds for each of 1 candidates, totalling 5 fits\n",
      "[CV 1/5; 1/1] START max_depth=4, max_features=31, n_estimators=137..............\n",
      "[CV 1/5; 1/1] END max_depth=4, max_features=31, n_estimators=137;, score=0.954 total time=   2.9s\n",
      "[CV 2/5; 1/1] START max_depth=4, max_features=31, n_estimators=137..............\n",
      "[CV 2/5; 1/1] END max_depth=4, max_features=31, n_estimators=137;, score=0.946 total time=   2.9s\n",
      "[CV 3/5; 1/1] START max_depth=4, max_features=31, n_estimators=137..............\n",
      "[CV 3/5; 1/1] END max_depth=4, max_features=31, n_estimators=137;, score=0.962 total time=   2.8s\n",
      "[CV 4/5; 1/1] START max_depth=4, max_features=31, n_estimators=137..............\n",
      "[CV 4/5; 1/1] END max_depth=4, max_features=31, n_estimators=137;, score=0.935 total time=   2.7s\n",
      "[CV 5/5; 1/1] START max_depth=4, max_features=31, n_estimators=137..............\n",
      "[CV 5/5; 1/1] END max_depth=4, max_features=31, n_estimators=137;, score=0.962 total time=   2.6s\n",
      "Precisión: 95.4% con OrderedDict([('max_depth', 5), ('max_features', 12), ('n_estimators', 219)])\n"
     ]
    }
   ],
   "source": [
    "from skopt import BayesSearchCV\n",
    "from skopt.space import Real, Categorical, Integer\n",
    "\n",
    "# Ponemos rangos (mínimo, máximo)\n",
    "G = {\"max_depth\": Integer(1,5),\"n_estimators\":Integer(50,400),\"max_features\":Integer(5,57)}\n",
    "\n",
    "# Probar solo 10 combinaciones de parámetros, n_iter=10\n",
    "BS = BayesSearchCV(GradientBoostingClassifier(), G, scoring='accuracy', n_iter=10, refit=True, cv=5, verbose=10)\n",
    "acc = BS.fit(X_train, y_train).score(X_test, y_test)\n",
    "print(f'Precisión: {acc:.1%} con {BS.best_params_}')\n"
   ]
  },
  {
   "cell_type": "markdown",
   "metadata": {
    "id": "2u07JuR4TNhe"
   },
   "source": [
    "## HistGradientBoostingClassifier\n",
    "Un problema del clasificador GradientBoosting implementado en sklearn es su velocidad. Es un clasificador muy lento de entrenar. Por ello sklearn propone otro tipo de algoritmo de GradientBoosting que soporta paralelismo con OMP además de otras mejoras computacionales basadas en la discretización de las componentes mediante un histograma.\n",
    "\n",
    "Este otro algoritmo se denomina **HistGradientBoostingClassifier**. Su tiempo de ejecución es mucho mejor. Además se pueden obtener mejores resultados.\n",
    "\n"
   ]
  },
  {
   "cell_type": "code",
   "execution_count": 12,
   "metadata": {
    "colab": {
     "base_uri": "https://localhost:8080/"
    },
    "id": "avluPs8TQvgg",
    "outputId": "ff7eaed7-bb87-48f3-fd02-33a961d89088",
    "ExecuteTime": {
     "end_time": "2024-05-25T20:05:53.535789400Z",
     "start_time": "2024-05-25T20:05:49.905345500Z"
    }
   },
   "outputs": [
    {
     "name": "stdout",
     "output_type": "stream",
     "text": [
      "Precisión: 95.5%\n"
     ]
    }
   ],
   "source": [
    "from sklearn.experimental import enable_hist_gradient_boosting\n",
    "from sklearn.ensemble import HistGradientBoostingClassifier\n",
    "\n",
    "hgb = HistGradientBoostingClassifier()\n",
    "\n",
    "acc=hgb.fit(X_train, y_train).score(X_test, y_test)\n",
    "\n",
    "print(f'Precisión: {acc:.1%}')"
   ]
  },
  {
   "cell_type": "markdown",
   "metadata": {
    "id": "HEWZx5IoVGz2"
   },
   "source": [
    "**Ejercicio** Analiza en la documentación [HistGradientBoosting](https://scikit-learn.org/stable/modules/generated/sklearn.ensemble.HistGradientBoostingClassifier.html) los parámetros más relevantes y realiza una búsqueda de parámetros para obtener el mejor clasificador. A la hora de establecer los valores de los parámetros sería interesante fijarnos en los valores por defecto que se han empleado en el ejercicio anterior y poder explorar alrededor de dichos valores por defecto para conseguir mejores resultados.\n",
    "\n"
   ]
  },
  {
   "cell_type": "code",
   "outputs": [
    {
     "name": "stdout",
     "output_type": "stream",
     "text": [
      "Fitting 5 folds for each of 1 candidates, totalling 5 fits\n",
      "[CV 1/5; 1/1] START max_bins=45, max_iter=230...................................\n",
      "[CV 1/5; 1/1] END ....max_bins=45, max_iter=230;, score=0.946 total time=   3.7s\n",
      "[CV 2/5; 1/1] START max_bins=45, max_iter=230...................................\n",
      "[CV 2/5; 1/1] END ....max_bins=45, max_iter=230;, score=0.963 total time=   3.7s\n",
      "[CV 3/5; 1/1] START max_bins=45, max_iter=230...................................\n",
      "[CV 3/5; 1/1] END ....max_bins=45, max_iter=230;, score=0.969 total time=   3.7s\n",
      "[CV 4/5; 1/1] START max_bins=45, max_iter=230...................................\n",
      "[CV 4/5; 1/1] END ....max_bins=45, max_iter=230;, score=0.951 total time=   3.8s\n",
      "[CV 5/5; 1/1] START max_bins=45, max_iter=230...................................\n",
      "[CV 5/5; 1/1] END ....max_bins=45, max_iter=230;, score=0.957 total time=   4.0s\n",
      "Fitting 5 folds for each of 1 candidates, totalling 5 fits\n",
      "[CV 1/5; 1/1] START max_bins=19, max_iter=220...................................\n",
      "[CV 1/5; 1/1] END ....max_bins=19, max_iter=220;, score=0.957 total time=   3.5s\n",
      "[CV 2/5; 1/1] START max_bins=19, max_iter=220...................................\n",
      "[CV 2/5; 1/1] END ....max_bins=19, max_iter=220;, score=0.957 total time=   3.4s\n",
      "[CV 3/5; 1/1] START max_bins=19, max_iter=220...................................\n",
      "[CV 3/5; 1/1] END ....max_bins=19, max_iter=220;, score=0.974 total time=   4.3s\n",
      "[CV 4/5; 1/1] START max_bins=19, max_iter=220...................................\n",
      "[CV 4/5; 1/1] END ....max_bins=19, max_iter=220;, score=0.944 total time=   3.6s\n",
      "[CV 5/5; 1/1] START max_bins=19, max_iter=220...................................\n",
      "[CV 5/5; 1/1] END ....max_bins=19, max_iter=220;, score=0.951 total time=   3.7s\n",
      "Fitting 5 folds for each of 1 candidates, totalling 5 fits\n",
      "[CV 1/5; 1/1] START max_bins=128, max_iter=259..................................\n",
      "[CV 1/5; 1/1] END ...max_bins=128, max_iter=259;, score=0.950 total time=   5.6s\n",
      "[CV 2/5; 1/1] START max_bins=128, max_iter=259..................................\n",
      "[CV 2/5; 1/1] END ...max_bins=128, max_iter=259;, score=0.959 total time=   4.6s\n",
      "[CV 3/5; 1/1] START max_bins=128, max_iter=259..................................\n",
      "[CV 3/5; 1/1] END ...max_bins=128, max_iter=259;, score=0.971 total time=   5.7s\n",
      "[CV 4/5; 1/1] START max_bins=128, max_iter=259..................................\n",
      "[CV 4/5; 1/1] END ...max_bins=128, max_iter=259;, score=0.952 total time=   5.1s\n",
      "[CV 5/5; 1/1] START max_bins=128, max_iter=259..................................\n",
      "[CV 5/5; 1/1] END ...max_bins=128, max_iter=259;, score=0.954 total time=   5.5s\n",
      "Fitting 5 folds for each of 1 candidates, totalling 5 fits\n",
      "[CV 1/5; 1/1] START max_bins=219, max_iter=249..................................\n",
      "[CV 1/5; 1/1] END ...max_bins=219, max_iter=249;, score=0.948 total time=   5.3s\n",
      "[CV 2/5; 1/1] START max_bins=219, max_iter=249..................................\n",
      "[CV 2/5; 1/1] END ...max_bins=219, max_iter=249;, score=0.955 total time=   6.1s\n",
      "[CV 3/5; 1/1] START max_bins=219, max_iter=249..................................\n",
      "[CV 3/5; 1/1] END ...max_bins=219, max_iter=249;, score=0.969 total time=   6.6s\n",
      "[CV 4/5; 1/1] START max_bins=219, max_iter=249..................................\n",
      "[CV 4/5; 1/1] END ...max_bins=219, max_iter=249;, score=0.950 total time=   7.1s\n",
      "[CV 5/5; 1/1] START max_bins=219, max_iter=249..................................\n",
      "[CV 5/5; 1/1] END ...max_bins=219, max_iter=249;, score=0.954 total time=   7.1s\n",
      "Fitting 5 folds for each of 1 candidates, totalling 5 fits\n",
      "[CV 1/5; 1/1] START max_bins=13, max_iter=196...................................\n",
      "[CV 1/5; 1/1] END ....max_bins=13, max_iter=196;, score=0.952 total time=   4.1s\n",
      "[CV 2/5; 1/1] START max_bins=13, max_iter=196...................................\n",
      "[CV 2/5; 1/1] END ....max_bins=13, max_iter=196;, score=0.962 total time=   4.5s\n",
      "[CV 3/5; 1/1] START max_bins=13, max_iter=196...................................\n",
      "[CV 3/5; 1/1] END ....max_bins=13, max_iter=196;, score=0.963 total time=   5.0s\n",
      "[CV 4/5; 1/1] START max_bins=13, max_iter=196...................................\n",
      "[CV 4/5; 1/1] END ....max_bins=13, max_iter=196;, score=0.951 total time=   4.3s\n",
      "[CV 5/5; 1/1] START max_bins=13, max_iter=196...................................\n",
      "[CV 5/5; 1/1] END ....max_bins=13, max_iter=196;, score=0.958 total time=   3.8s\n",
      "Fitting 5 folds for each of 1 candidates, totalling 5 fits\n",
      "[CV 1/5; 1/1] START max_bins=75, max_iter=110...................................\n",
      "[CV 1/5; 1/1] END ....max_bins=75, max_iter=110;, score=0.951 total time=   2.4s\n",
      "[CV 2/5; 1/1] START max_bins=75, max_iter=110...................................\n",
      "[CV 2/5; 1/1] END ....max_bins=75, max_iter=110;, score=0.959 total time=   2.1s\n",
      "[CV 3/5; 1/1] START max_bins=75, max_iter=110...................................\n",
      "[CV 3/5; 1/1] END ....max_bins=75, max_iter=110;, score=0.969 total time=   1.8s\n",
      "[CV 4/5; 1/1] START max_bins=75, max_iter=110...................................\n",
      "[CV 4/5; 1/1] END ....max_bins=75, max_iter=110;, score=0.948 total time=   1.9s\n",
      "[CV 5/5; 1/1] START max_bins=75, max_iter=110...................................\n",
      "[CV 5/5; 1/1] END ....max_bins=75, max_iter=110;, score=0.955 total time=   1.8s\n",
      "Fitting 5 folds for each of 1 candidates, totalling 5 fits\n",
      "[CV 1/5; 1/1] START max_bins=55, max_iter=379...................................\n",
      "[CV 1/5; 1/1] END ....max_bins=55, max_iter=379;, score=0.954 total time=   6.4s\n",
      "[CV 2/5; 1/1] START max_bins=55, max_iter=379...................................\n",
      "[CV 2/5; 1/1] END ....max_bins=55, max_iter=379;, score=0.959 total time=   6.4s\n",
      "[CV 3/5; 1/1] START max_bins=55, max_iter=379...................................\n",
      "[CV 3/5; 1/1] END ....max_bins=55, max_iter=379;, score=0.969 total time=   7.4s\n",
      "[CV 4/5; 1/1] START max_bins=55, max_iter=379...................................\n",
      "[CV 4/5; 1/1] END ....max_bins=55, max_iter=379;, score=0.950 total time=   8.9s\n",
      "[CV 5/5; 1/1] START max_bins=55, max_iter=379...................................\n",
      "[CV 5/5; 1/1] END ....max_bins=55, max_iter=379;, score=0.954 total time=   6.2s\n",
      "Fitting 5 folds for each of 1 candidates, totalling 5 fits\n",
      "[CV 1/5; 1/1] START max_bins=137, max_iter=132..................................\n",
      "[CV 1/5; 1/1] END ...max_bins=137, max_iter=132;, score=0.946 total time=   2.3s\n",
      "[CV 2/5; 1/1] START max_bins=137, max_iter=132..................................\n",
      "[CV 2/5; 1/1] END ...max_bins=137, max_iter=132;, score=0.966 total time=   2.4s\n",
      "[CV 3/5; 1/1] START max_bins=137, max_iter=132..................................\n",
      "[CV 3/5; 1/1] END ...max_bins=137, max_iter=132;, score=0.973 total time=   3.0s\n",
      "[CV 4/5; 1/1] START max_bins=137, max_iter=132..................................\n",
      "[CV 4/5; 1/1] END ...max_bins=137, max_iter=132;, score=0.950 total time=   2.3s\n",
      "[CV 5/5; 1/1] START max_bins=137, max_iter=132..................................\n",
      "[CV 5/5; 1/1] END ...max_bins=137, max_iter=132;, score=0.957 total time=   2.3s\n",
      "Fitting 5 folds for each of 1 candidates, totalling 5 fits\n",
      "[CV 1/5; 1/1] START max_bins=174, max_iter=85...................................\n",
      "[CV 1/5; 1/1] END ....max_bins=174, max_iter=85;, score=0.950 total time=   2.2s\n",
      "[CV 2/5; 1/1] START max_bins=174, max_iter=85...................................\n",
      "[CV 2/5; 1/1] END ....max_bins=174, max_iter=85;, score=0.961 total time=   1.5s\n",
      "[CV 3/5; 1/1] START max_bins=174, max_iter=85...................................\n",
      "[CV 3/5; 1/1] END ....max_bins=174, max_iter=85;, score=0.966 total time=   1.6s\n",
      "[CV 4/5; 1/1] START max_bins=174, max_iter=85...................................\n",
      "[CV 4/5; 1/1] END ....max_bins=174, max_iter=85;, score=0.946 total time=   1.7s\n",
      "[CV 5/5; 1/1] START max_bins=174, max_iter=85...................................\n",
      "[CV 5/5; 1/1] END ....max_bins=174, max_iter=85;, score=0.958 total time=   1.4s\n",
      "Fitting 5 folds for each of 1 candidates, totalling 5 fits\n",
      "[CV 1/5; 1/1] START max_bins=60, max_iter=342...................................\n",
      "[CV 1/5; 1/1] END ....max_bins=60, max_iter=342;, score=0.951 total time=   6.7s\n",
      "[CV 2/5; 1/1] START max_bins=60, max_iter=342...................................\n",
      "[CV 2/5; 1/1] END ....max_bins=60, max_iter=342;, score=0.961 total time=   6.1s\n",
      "[CV 3/5; 1/1] START max_bins=60, max_iter=342...................................\n",
      "[CV 3/5; 1/1] END ....max_bins=60, max_iter=342;, score=0.969 total time=   5.8s\n",
      "[CV 4/5; 1/1] START max_bins=60, max_iter=342...................................\n",
      "[CV 4/5; 1/1] END ....max_bins=60, max_iter=342;, score=0.944 total time=   5.9s\n",
      "[CV 5/5; 1/1] START max_bins=60, max_iter=342...................................\n",
      "[CV 5/5; 1/1] END ....max_bins=60, max_iter=342;, score=0.948 total time=   5.9s\n",
      "Precisión: 95.8% con OrderedDict([('max_bins', 137), ('max_iter', 132)])\n"
     ]
    }
   ],
   "source": [
    "from skopt import BayesSearchCV\n",
    "from skopt.space import Real, Categorical, Integer\n",
    "\n",
    "G = {\"max_iter\":Integer(50,400),\"max_bins\":Integer(10,255)}\n",
    "\n",
    "# Probar solo 10 combinaciones de parámetros, n_iter=10\n",
    "BS = BayesSearchCV(hgb, G, scoring='accuracy', n_iter=10, refit=True, cv=5, verbose=10)\n",
    "\n",
    "acc = BS.fit(X_train, y_train).score(X_test, y_test)\n",
    "print(f'Precisión: {acc:.1%} con {BS.best_params_}')"
   ],
   "metadata": {
    "collapsed": false,
    "ExecuteTime": {
     "end_time": "2024-05-25T20:12:54.904927800Z",
     "start_time": "2024-05-25T20:09:12.046367100Z"
    }
   },
   "execution_count": 13
  },
  {
   "cell_type": "code",
   "outputs": [
    {
     "name": "stdout",
     "output_type": "stream",
     "text": [
      "Fitting 5 folds for each of 1 candidates, totalling 5 fits\n",
      "[CV 1/5; 1/1] START learning_rate=0.1666036872051291, max_bins=23, max_depth=3, max_iter=121\n",
      "[CV 1/5; 1/1] END learning_rate=0.1666036872051291, max_bins=23, max_depth=3, max_iter=121;, score=0.946 total time=   0.1s\n",
      "[CV 2/5; 1/1] START learning_rate=0.1666036872051291, max_bins=23, max_depth=3, max_iter=121\n",
      "[CV 2/5; 1/1] END learning_rate=0.1666036872051291, max_bins=23, max_depth=3, max_iter=121;, score=0.950 total time=   0.1s\n",
      "[CV 3/5; 1/1] START learning_rate=0.1666036872051291, max_bins=23, max_depth=3, max_iter=121\n",
      "[CV 3/5; 1/1] END learning_rate=0.1666036872051291, max_bins=23, max_depth=3, max_iter=121;, score=0.961 total time=   0.1s\n",
      "[CV 4/5; 1/1] START learning_rate=0.1666036872051291, max_bins=23, max_depth=3, max_iter=121\n",
      "[CV 4/5; 1/1] END learning_rate=0.1666036872051291, max_bins=23, max_depth=3, max_iter=121;, score=0.946 total time=   0.1s\n",
      "[CV 5/5; 1/1] START learning_rate=0.1666036872051291, max_bins=23, max_depth=3, max_iter=121\n",
      "[CV 5/5; 1/1] END learning_rate=0.1666036872051291, max_bins=23, max_depth=3, max_iter=121;, score=0.955 total time=   0.1s\n",
      "Fitting 5 folds for each of 1 candidates, totalling 5 fits\n",
      "[CV 1/5; 1/1] START learning_rate=0.8217020039837994, max_bins=68, max_depth=8, max_iter=140\n",
      "[CV 1/5; 1/1] END learning_rate=0.8217020039837994, max_bins=68, max_depth=8, max_iter=140;, score=0.958 total time=   0.6s\n",
      "[CV 2/5; 1/1] START learning_rate=0.8217020039837994, max_bins=68, max_depth=8, max_iter=140\n",
      "[CV 2/5; 1/1] END learning_rate=0.8217020039837994, max_bins=68, max_depth=8, max_iter=140;, score=0.958 total time=   0.6s\n",
      "[CV 3/5; 1/1] START learning_rate=0.8217020039837994, max_bins=68, max_depth=8, max_iter=140\n",
      "[CV 3/5; 1/1] END learning_rate=0.8217020039837994, max_bins=68, max_depth=8, max_iter=140;, score=0.962 total time=   0.7s\n",
      "[CV 4/5; 1/1] START learning_rate=0.8217020039837994, max_bins=68, max_depth=8, max_iter=140\n",
      "[CV 4/5; 1/1] END learning_rate=0.8217020039837994, max_bins=68, max_depth=8, max_iter=140;, score=0.946 total time=   0.6s\n",
      "[CV 5/5; 1/1] START learning_rate=0.8217020039837994, max_bins=68, max_depth=8, max_iter=140\n",
      "[CV 5/5; 1/1] END learning_rate=0.8217020039837994, max_bins=68, max_depth=8, max_iter=140;, score=0.952 total time=   0.7s\n",
      "Fitting 5 folds for each of 1 candidates, totalling 5 fits\n",
      "[CV 1/5; 1/1] START learning_rate=0.9528212627778166, max_bins=153, max_depth=10, max_iter=355\n",
      "[CV 1/5; 1/1] END learning_rate=0.9528212627778166, max_bins=153, max_depth=10, max_iter=355;, score=0.943 total time=   0.9s\n",
      "[CV 2/5; 1/1] START learning_rate=0.9528212627778166, max_bins=153, max_depth=10, max_iter=355\n",
      "[CV 2/5; 1/1] END learning_rate=0.9528212627778166, max_bins=153, max_depth=10, max_iter=355;, score=0.957 total time=   1.0s\n",
      "[CV 3/5; 1/1] START learning_rate=0.9528212627778166, max_bins=153, max_depth=10, max_iter=355\n",
      "[CV 3/5; 1/1] END learning_rate=0.9528212627778166, max_bins=153, max_depth=10, max_iter=355;, score=0.966 total time=   1.0s\n",
      "[CV 4/5; 1/1] START learning_rate=0.9528212627778166, max_bins=153, max_depth=10, max_iter=355\n",
      "[CV 4/5; 1/1] END learning_rate=0.9528212627778166, max_bins=153, max_depth=10, max_iter=355;, score=0.948 total time=   0.9s\n",
      "[CV 5/5; 1/1] START learning_rate=0.9528212627778166, max_bins=153, max_depth=10, max_iter=355\n",
      "[CV 5/5; 1/1] END learning_rate=0.9528212627778166, max_bins=153, max_depth=10, max_iter=355;, score=0.925 total time=   0.2s\n",
      "Fitting 5 folds for each of 1 candidates, totalling 5 fits\n",
      "[CV 1/5; 1/1] START learning_rate=0.6519515515901046, max_bins=186, max_depth=3, max_iter=178\n",
      "[CV 1/5; 1/1] END learning_rate=0.6519515515901046, max_bins=186, max_depth=3, max_iter=178;, score=0.942 total time=   0.2s\n",
      "[CV 2/5; 1/1] START learning_rate=0.6519515515901046, max_bins=186, max_depth=3, max_iter=178\n",
      "[CV 2/5; 1/1] END learning_rate=0.6519515515901046, max_bins=186, max_depth=3, max_iter=178;, score=0.957 total time=   0.2s\n",
      "[CV 3/5; 1/1] START learning_rate=0.6519515515901046, max_bins=186, max_depth=3, max_iter=178\n",
      "[CV 3/5; 1/1] END learning_rate=0.6519515515901046, max_bins=186, max_depth=3, max_iter=178;, score=0.963 total time=   0.2s\n",
      "[CV 4/5; 1/1] START learning_rate=0.6519515515901046, max_bins=186, max_depth=3, max_iter=178\n",
      "[CV 4/5; 1/1] END learning_rate=0.6519515515901046, max_bins=186, max_depth=3, max_iter=178;, score=0.946 total time=   0.2s\n",
      "[CV 5/5; 1/1] START learning_rate=0.6519515515901046, max_bins=186, max_depth=3, max_iter=178\n",
      "[CV 5/5; 1/1] END learning_rate=0.6519515515901046, max_bins=186, max_depth=3, max_iter=178;, score=0.944 total time=   0.2s\n",
      "Fitting 5 folds for each of 1 candidates, totalling 5 fits\n",
      "[CV 1/5; 1/1] START learning_rate=0.13530549275155782, max_bins=226, max_depth=10, max_iter=323\n",
      "[CV 1/5; 1/1] END learning_rate=0.13530549275155782, max_bins=226, max_depth=10, max_iter=323;, score=0.947 total time=   2.4s\n",
      "[CV 2/5; 1/1] START learning_rate=0.13530549275155782, max_bins=226, max_depth=10, max_iter=323\n",
      "[CV 2/5; 1/1] END learning_rate=0.13530549275155782, max_bins=226, max_depth=10, max_iter=323;, score=0.959 total time=   2.5s\n",
      "[CV 3/5; 1/1] START learning_rate=0.13530549275155782, max_bins=226, max_depth=10, max_iter=323\n",
      "[CV 3/5; 1/1] END learning_rate=0.13530549275155782, max_bins=226, max_depth=10, max_iter=323;, score=0.967 total time=   2.5s\n",
      "[CV 4/5; 1/1] START learning_rate=0.13530549275155782, max_bins=226, max_depth=10, max_iter=323\n",
      "[CV 4/5; 1/1] END learning_rate=0.13530549275155782, max_bins=226, max_depth=10, max_iter=323;, score=0.950 total time=   2.7s\n",
      "[CV 5/5; 1/1] START learning_rate=0.13530549275155782, max_bins=226, max_depth=10, max_iter=323\n",
      "[CV 5/5; 1/1] END learning_rate=0.13530549275155782, max_bins=226, max_depth=10, max_iter=323;, score=0.948 total time=   2.5s\n",
      "Fitting 5 folds for each of 1 candidates, totalling 5 fits\n",
      "[CV 1/5; 1/1] START learning_rate=0.060581482629380914, max_bins=120, max_depth=8, max_iter=101\n",
      "[CV 1/5; 1/1] END learning_rate=0.060581482629380914, max_bins=120, max_depth=8, max_iter=101;, score=0.951 total time=   0.7s\n",
      "[CV 2/5; 1/1] START learning_rate=0.060581482629380914, max_bins=120, max_depth=8, max_iter=101\n",
      "[CV 2/5; 1/1] END learning_rate=0.060581482629380914, max_bins=120, max_depth=8, max_iter=101;, score=0.951 total time=   0.8s\n",
      "[CV 3/5; 1/1] START learning_rate=0.060581482629380914, max_bins=120, max_depth=8, max_iter=101\n",
      "[CV 3/5; 1/1] END learning_rate=0.060581482629380914, max_bins=120, max_depth=8, max_iter=101;, score=0.961 total time=   0.7s\n",
      "[CV 4/5; 1/1] START learning_rate=0.060581482629380914, max_bins=120, max_depth=8, max_iter=101\n",
      "[CV 4/5; 1/1] END learning_rate=0.060581482629380914, max_bins=120, max_depth=8, max_iter=101;, score=0.951 total time=   0.7s\n",
      "[CV 5/5; 1/1] START learning_rate=0.060581482629380914, max_bins=120, max_depth=8, max_iter=101\n",
      "[CV 5/5; 1/1] END learning_rate=0.060581482629380914, max_bins=120, max_depth=8, max_iter=101;, score=0.958 total time=   0.7s\n",
      "Fitting 5 folds for each of 1 candidates, totalling 5 fits\n",
      "[CV 1/5; 1/1] START learning_rate=0.5620465634432367, max_bins=215, max_depth=8, max_iter=185\n",
      "[CV 1/5; 1/1] END learning_rate=0.5620465634432367, max_bins=215, max_depth=8, max_iter=185;, score=0.948 total time=   0.9s\n",
      "[CV 2/5; 1/1] START learning_rate=0.5620465634432367, max_bins=215, max_depth=8, max_iter=185\n",
      "[CV 2/5; 1/1] END learning_rate=0.5620465634432367, max_bins=215, max_depth=8, max_iter=185;, score=0.951 total time=   1.0s\n",
      "[CV 3/5; 1/1] START learning_rate=0.5620465634432367, max_bins=215, max_depth=8, max_iter=185\n",
      "[CV 3/5; 1/1] END learning_rate=0.5620465634432367, max_bins=215, max_depth=8, max_iter=185;, score=0.959 total time=   1.1s\n",
      "[CV 4/5; 1/1] START learning_rate=0.5620465634432367, max_bins=215, max_depth=8, max_iter=185\n",
      "[CV 4/5; 1/1] END learning_rate=0.5620465634432367, max_bins=215, max_depth=8, max_iter=185;, score=0.947 total time=   0.9s\n",
      "[CV 5/5; 1/1] START learning_rate=0.5620465634432367, max_bins=215, max_depth=8, max_iter=185\n",
      "[CV 5/5; 1/1] END learning_rate=0.5620465634432367, max_bins=215, max_depth=8, max_iter=185;, score=0.950 total time=   0.9s\n",
      "Fitting 5 folds for each of 1 candidates, totalling 5 fits\n",
      "[CV 1/5; 1/1] START learning_rate=0.9491841309924071, max_bins=211, max_depth=5, max_iter=214\n",
      "[CV 1/5; 1/1] END learning_rate=0.9491841309924071, max_bins=211, max_depth=5, max_iter=214;, score=0.942 total time=   0.6s\n",
      "[CV 2/5; 1/1] START learning_rate=0.9491841309924071, max_bins=211, max_depth=5, max_iter=214\n",
      "[CV 2/5; 1/1] END learning_rate=0.9491841309924071, max_bins=211, max_depth=5, max_iter=214;, score=0.932 total time=   0.1s\n",
      "[CV 3/5; 1/1] START learning_rate=0.9491841309924071, max_bins=211, max_depth=5, max_iter=214\n",
      "[CV 3/5; 1/1] END learning_rate=0.9491841309924071, max_bins=211, max_depth=5, max_iter=214;, score=0.952 total time=   0.1s\n",
      "[CV 4/5; 1/1] START learning_rate=0.9491841309924071, max_bins=211, max_depth=5, max_iter=214\n",
      "[CV 4/5; 1/1] END learning_rate=0.9491841309924071, max_bins=211, max_depth=5, max_iter=214;, score=0.939 total time=   0.1s\n",
      "[CV 5/5; 1/1] START learning_rate=0.9491841309924071, max_bins=211, max_depth=5, max_iter=214\n",
      "[CV 5/5; 1/1] END learning_rate=0.9491841309924071, max_bins=211, max_depth=5, max_iter=214;, score=0.948 total time=   0.6s\n",
      "Fitting 5 folds for each of 1 candidates, totalling 5 fits\n",
      "[CV 1/5; 1/1] START learning_rate=0.6267065245779522, max_bins=125, max_depth=10, max_iter=178\n",
      "[CV 1/5; 1/1] END learning_rate=0.6267065245779522, max_bins=125, max_depth=10, max_iter=178;, score=0.944 total time=   0.9s\n",
      "[CV 2/5; 1/1] START learning_rate=0.6267065245779522, max_bins=125, max_depth=10, max_iter=178\n",
      "[CV 2/5; 1/1] END learning_rate=0.6267065245779522, max_bins=125, max_depth=10, max_iter=178;, score=0.952 total time=   0.9s\n",
      "[CV 3/5; 1/1] START learning_rate=0.6267065245779522, max_bins=125, max_depth=10, max_iter=178\n",
      "[CV 3/5; 1/1] END learning_rate=0.6267065245779522, max_bins=125, max_depth=10, max_iter=178;, score=0.969 total time=   0.9s\n",
      "[CV 4/5; 1/1] START learning_rate=0.6267065245779522, max_bins=125, max_depth=10, max_iter=178\n",
      "[CV 4/5; 1/1] END learning_rate=0.6267065245779522, max_bins=125, max_depth=10, max_iter=178;, score=0.950 total time=   0.9s\n",
      "[CV 5/5; 1/1] START learning_rate=0.6267065245779522, max_bins=125, max_depth=10, max_iter=178\n",
      "[CV 5/5; 1/1] END learning_rate=0.6267065245779522, max_bins=125, max_depth=10, max_iter=178;, score=0.957 total time=   0.9s\n",
      "Fitting 5 folds for each of 1 candidates, totalling 5 fits\n",
      "[CV 1/5; 1/1] START learning_rate=0.8524279283546512, max_bins=247, max_depth=4, max_iter=145\n",
      "[CV 1/5; 1/1] END learning_rate=0.8524279283546512, max_bins=247, max_depth=4, max_iter=145;, score=0.947 total time=   0.3s\n",
      "[CV 2/5; 1/1] START learning_rate=0.8524279283546512, max_bins=247, max_depth=4, max_iter=145\n",
      "[CV 2/5; 1/1] END learning_rate=0.8524279283546512, max_bins=247, max_depth=4, max_iter=145;, score=0.951 total time=   0.3s\n",
      "[CV 3/5; 1/1] START learning_rate=0.8524279283546512, max_bins=247, max_depth=4, max_iter=145\n",
      "[CV 3/5; 1/1] END learning_rate=0.8524279283546512, max_bins=247, max_depth=4, max_iter=145;, score=0.952 total time=   0.1s\n",
      "[CV 4/5; 1/1] START learning_rate=0.8524279283546512, max_bins=247, max_depth=4, max_iter=145\n",
      "[CV 4/5; 1/1] END learning_rate=0.8524279283546512, max_bins=247, max_depth=4, max_iter=145;, score=0.917 total time=   0.1s\n",
      "[CV 5/5; 1/1] START learning_rate=0.8524279283546512, max_bins=247, max_depth=4, max_iter=145\n",
      "[CV 5/5; 1/1] END learning_rate=0.8524279283546512, max_bins=247, max_depth=4, max_iter=145;, score=0.940 total time=   0.0s\n",
      "Precisión: 94.8% con OrderedDict([('learning_rate', 0.8217020039837994), ('max_bins', 68), ('max_depth', 8), ('max_iter', 140)])\n"
     ]
    }
   ],
   "source": [
    "from skopt import BayesSearchCV\n",
    "from skopt.space import Real, Categorical, Integer\n",
    "\n",
    "G = {\"max_iter\":Integer(50,400),\"max_bins\":Integer(10,255), \"max_depth\": Integer(2,10), \"learning_rate\": Real(0,1)}\n",
    "\n",
    "# Probar solo 10 combinaciones de parámetros, n_iter=10\n",
    "BS = BayesSearchCV(hgb, G, scoring='accuracy', n_iter=10, refit=True, cv=5, verbose=10)\n",
    "\n",
    "acc = BS.fit(X_train, y_train).score(X_test, y_test)\n",
    "print(f'Precisión: {acc:.1%} con {BS.best_params_}')"
   ],
   "metadata": {
    "collapsed": false,
    "ExecuteTime": {
     "end_time": "2024-05-25T20:19:13.001143Z",
     "start_time": "2024-05-25T20:18:30.166021700Z"
    }
   },
   "execution_count": 14
  }
 ],
 "metadata": {
  "colab": {
   "provenance": []
  },
  "kernelspec": {
   "name": "python3",
   "language": "python",
   "display_name": "Python 3 (ipykernel)"
  },
  "language_info": {
   "name": "python",
   "version": "3.10.12"
  }
 },
 "nbformat": 4,
 "nbformat_minor": 0
}
