{
 "cells": [
  {
   "cell_type": "markdown",
   "metadata": {
    "id": "58B27Xk_RkUS"
   },
   "source": [
    "# KVecinos en un dataset de detección de spam\n",
    "\n",
    "Se propone emplear un clasificador basado en distancias sobre el dataset id=44 de openml de detección de Spam. Son un total de 4601 muestras con 57 características."
   ]
  },
  {
   "cell_type": "code",
   "execution_count": 2,
   "metadata": {
    "id": "ol4-XMphRR0o",
    "ExecuteTime": {
     "end_time": "2024-05-25T18:14:50.867729100Z",
     "start_time": "2024-05-25T18:14:50.668922500Z"
    }
   },
   "outputs": [
    {
     "name": "stdout",
     "output_type": "stream",
     "text": [
      "(4601, 57)\n"
     ]
    }
   ],
   "source": [
    "from sklearn.datasets import fetch_openml\n",
    "from sklearn.model_selection import train_test_split\n",
    "from warnings import filterwarnings\n",
    "\n",
    "## Descarga del dataset Spam\n",
    "filterwarnings('ignore')\n",
    "X, y = fetch_openml(data_id=44, as_frame=False, cache=True, return_X_y=True)\n",
    "print(X.shape)\n",
    "\n",
    "## Partición train/test\n",
    "X_train, X_test, y_train, y_test = train_test_split(X, y, test_size=0.2, shuffle=True, random_state=23)\n"
   ]
  },
  {
   "cell_type": "markdown",
   "metadata": {
    "id": "ylTk-2JuSJyD"
   },
   "source": [
    "## El clasificador por los vecinos más cercanos"
   ]
  },
  {
   "cell_type": "code",
   "execution_count": 4,
   "metadata": {
    "colab": {
     "base_uri": "https://localhost:8080/"
    },
    "id": "9fwMFShNRfKk",
    "outputId": "c0c027af-78f8-4f85-c551-68ff804cda2e",
    "ExecuteTime": {
     "end_time": "2024-05-25T20:56:17.745041300Z",
     "start_time": "2024-05-25T20:56:17.531778600Z"
    }
   },
   "outputs": [
    {
     "name": "stdout",
     "output_type": "stream",
     "text": [
      "Precisión: 79.5%\n"
     ]
    }
   ],
   "source": [
    "from sklearn.neighbors import KNeighborsClassifier\n",
    "\n",
    "kv = KNeighborsClassifier()\n",
    "acc=kv.fit(X_train,y_train).score(X_test,y_test)\n",
    "\n",
    "print(f'Precisión: {acc:.1%}')"
   ]
  },
  {
   "cell_type": "markdown",
   "metadata": {
    "id": "IMCCldnbSR9g"
   },
   "source": [
    "**Ejercicio:** Explora el principal parámetros del KNN (n_neighbors) y realiza una búsqueda mediante alguna técnica de optimización ya vista en la práctica anterior"
   ]
  },
  {
   "cell_type": "code",
   "execution_count": 5,
   "metadata": {
    "ExecuteTime": {
     "end_time": "2024-05-25T20:59:55.008390Z",
     "start_time": "2024-05-25T20:56:19.949107900Z"
    }
   },
   "outputs": [
    {
     "name": "stdout",
     "output_type": "stream",
     "text": [
      "Precisión: 86.4% con {'leaf_size': 5, 'n_neighbors': 10, 'p': 1, 'weights': 'distance'}\n"
     ]
    }
   ],
   "source": [
    "import warnings; warnings.filterwarnings('ignore')\n",
    "from sklearn.model_selection import train_test_split, GridSearchCV\n",
    "G = {'n_neighbors': [1,2,5,10], 'weights':['uniform', 'distance'], 'leaf_size': [5,10,20,30,50], 'p': [1,2,3]}\n",
    "GS = GridSearchCV(kv, G, scoring='accuracy', refit=True, cv=5)\n",
    "acc = GS.fit(X_train, y_train).score(X_test, y_test)\n",
    "print(f'Precisión: {acc:.1%} con {GS.best_params_}')"
   ]
  },
  {
   "cell_type": "markdown",
   "metadata": {
    "id": "pUGR1U0CTSyV"
   },
   "source": [
    "## Mejoras\n",
    "\n",
    "La función de distancia empleada por defecto es la distancia euclídea. Dicha distancia requiere un preproceso de las muestras para que tengan una escala similar todas ellas. Además KNN podría beneficiarse de una proyección mediante PCA con el fin de reducir la dimensionalidad.\n",
    "\n",
    "**Ejercicio:** Implementa un pipeline con la normalización de los datos y un PCA, seguido del KNN. Busca los mejores parámetros. Se podría conseguir una tasa de acierto >90%.\n"
   ]
  },
  {
   "cell_type": "code",
   "outputs": [
    {
     "name": "stdout",
     "output_type": "stream",
     "text": [
      "Precisión: 91.0% con {'knn__n_neighbors': 5, 'pca__n_components': 20}\n"
     ]
    }
   ],
   "source": [
    "from sklearn.preprocessing import StandardScaler\n",
    "from sklearn.decomposition import PCA\n",
    "from sklearn.pipeline import Pipeline\n",
    "\n",
    "scaler = StandardScaler()\n",
    "pca = PCA()\n",
    "knn = KNeighborsClassifier()\n",
    "\n",
    "pipe = Pipeline(steps=[(\"scaler\", scaler), (\"pca\", pca), (\"knn\", knn)])\n",
    "\n",
    "G = {\"pca__n_components\": [5,10,20,50,100], \"knn__n_neighbors\": [1,3,5,10]}\n",
    "GS = GridSearchCV(pipe, G, scoring='accuracy', refit=True, cv=5)\n",
    "acc = GS.fit(X_train, y_train).score(X_test, y_test)\n",
    "print(f'Precisión: {acc:.1%} con {GS.best_params_}')"
   ],
   "metadata": {
    "collapsed": false,
    "ExecuteTime": {
     "end_time": "2024-05-25T21:00:58.059860400Z",
     "start_time": "2024-05-25T21:00:51.898557700Z"
    }
   },
   "execution_count": 6
  },
  {
   "cell_type": "markdown",
   "metadata": {
    "id": "w8r-aW7yWMru"
   },
   "source": [
    "También podríamos probar diferentes funciones de distancia [sklearn distances](https://scikit-learn.org/stable/modules/generated/sklearn.metrics.pairwise.distance_metrics.html#sklearn.metrics.pairwise.distance_metrics) a emplear en el parámetro \"metric\". Así mismo podríamos explorar el parámetro \"weights\" que pondera el voto de cada vecino de forma diferente según el parámetro escogido.\n",
    "\n",
    "**Ejercicio:** prueba también diferentes métricas y \"weights\" junto con todo lo anterior. Emplea el BayessianOpt visto en la práctica anterior."
   ]
  },
  {
   "cell_type": "code",
   "outputs": [
    {
     "name": "stdout",
     "output_type": "stream",
     "text": [
      "Requirement already satisfied: scikit-optimize in c:\\users\\usuario\\appdata\\local\\programs\\python\\python311\\lib\\site-packages (0.10.1)\n",
      "Requirement already satisfied: joblib>=0.11 in c:\\users\\usuario\\appdata\\local\\programs\\python\\python311\\lib\\site-packages (from scikit-optimize) (1.3.2)\n",
      "Requirement already satisfied: pyaml>=16.9 in c:\\users\\usuario\\appdata\\local\\programs\\python\\python311\\lib\\site-packages (from scikit-optimize) (24.4.0)\n",
      "Requirement already satisfied: numpy>=1.20.3 in c:\\users\\usuario\\appdata\\local\\programs\\python\\python311\\lib\\site-packages (from scikit-optimize) (1.26.3)\n",
      "Requirement already satisfied: scipy>=1.1.0 in c:\\users\\usuario\\appdata\\local\\programs\\python\\python311\\lib\\site-packages (from scikit-optimize) (1.11.4)\n",
      "Requirement already satisfied: scikit-learn>=1.0.0 in c:\\users\\usuario\\appdata\\local\\programs\\python\\python311\\lib\\site-packages (from scikit-optimize) (1.3.2)\n",
      "Requirement already satisfied: packaging>=21.3 in c:\\users\\usuario\\appdata\\local\\programs\\python\\python311\\lib\\site-packages (from scikit-optimize) (23.2)\n",
      "Requirement already satisfied: PyYAML in c:\\users\\usuario\\appdata\\local\\programs\\python\\python311\\lib\\site-packages (from pyaml>=16.9->scikit-optimize) (6.0.1)\n",
      "Requirement already satisfied: threadpoolctl>=2.0.0 in c:\\users\\usuario\\appdata\\local\\programs\\python\\python311\\lib\\site-packages (from scikit-learn>=1.0.0->scikit-optimize) (3.2.0)\n"
     ]
    },
    {
     "name": "stderr",
     "output_type": "stream",
     "text": [
      "\n",
      "[notice] A new release of pip is available: 23.2.1 -> 24.0\n",
      "[notice] To update, run: python.exe -m pip install --upgrade pip\n"
     ]
    }
   ],
   "source": [
    "!pip install scikit-optimize"
   ],
   "metadata": {
    "collapsed": false,
    "ExecuteTime": {
     "end_time": "2024-05-25T21:02:27.531493800Z",
     "start_time": "2024-05-25T21:02:25.395695Z"
    }
   },
   "execution_count": 7
  },
  {
   "cell_type": "code",
   "outputs": [
    {
     "name": "stdout",
     "output_type": "stream",
     "text": [
      "Precisión: 92.1% con OrderedDict([('knn__metric', 'l2'), ('knn__n_neighbors', 11), ('knn__weights', 'distance'), ('pca__n_components', 29)])\n"
     ]
    }
   ],
   "source": [
    "# Solución\n",
    "from skopt import BayesSearchCV\n",
    "from skopt.space import Real, Categorical, Integer\n",
    "\n",
    "# Probar solo 10 combinaciones de parámetros, n_iter=10\n",
    "scaler = StandardScaler()\n",
    "pca = PCA()\n",
    "knn = KNeighborsClassifier()\n",
    "\n",
    "pipe = Pipeline(steps=[(\"scaler\", scaler), (\"pca\", pca), (\"knn\", knn)])\n",
    "\n",
    "G = {\"pca__n_components\": Integer(1,57),\n",
    "     \"knn__n_neighbors\": Integer(1,20),\n",
    "     \"knn__metric\": Categorical([\"l1\",\"l2\"]),\n",
    "     \"knn__weights\":Categorical([\"uniform\",\"distance\"])}\n",
    "\n",
    "BS = BayesSearchCV(pipe, G, scoring='accuracy', n_iter=20, refit=True, cv=5)\n",
    "\n",
    "acc = BS.fit(X_train, y_train).score(X_test, y_test)\n",
    "print(f'Precisión: {acc:.1%} con {BS.best_params_}')"
   ],
   "metadata": {
    "collapsed": false,
    "ExecuteTime": {
     "end_time": "2024-05-25T21:08:39.899177200Z",
     "start_time": "2024-05-25T21:08:22.919370700Z"
    }
   },
   "execution_count": 11
  },
  {
   "cell_type": "code",
   "outputs": [
    {
     "name": "stdout",
     "output_type": "stream",
     "text": [
      "Precisión: 90.9% con OrderedDict([('knn__leaf_size', 50), ('knn__metric', 'l2'), ('knn__n_neighbors', 8), ('knn__p', 1), ('knn__weights', 'distance'), ('pca__n_components', 57), ('poly__degree', 2)])\n"
     ]
    }
   ],
   "source": [
    "# Solución\n",
    "from skopt import BayesSearchCV\n",
    "from sklearn.preprocessing import PolynomialFeatures\n",
    "from skopt.space import Real, Categorical, Integer\n",
    "\n",
    "# Probar solo 10 combinaciones de parámetros, n_iter=10\n",
    "scaler = StandardScaler()\n",
    "pca = PCA()\n",
    "poly = PolynomialFeatures()\n",
    "knn = KNeighborsClassifier()\n",
    "\n",
    "pipe = Pipeline(steps=[(\"scaler\", scaler), (\"pca\", pca), (\"poly\", poly), (\"knn\", knn)])\n",
    "\n",
    "G = {\"pca__n_components\": Integer(1,57),\n",
    "     \"poly__degree\": [2], \n",
    "     \"knn__n_neighbors\": Integer(1,20),\n",
    "     \"knn__metric\": Categorical([\"l1\",\"l2\"]),\n",
    "     \"knn__weights\": Categorical([\"uniform\",\"distance\"]),\n",
    "     'knn__leaf_size': Integer(1,50),\n",
    "     'knn__p': Categorical([1,2,3])}\n",
    "\n",
    "BS = BayesSearchCV(pipe, G, scoring='accuracy', n_iter=20, refit=True, cv=5)\n",
    "\n",
    "acc = BS.fit(X_train, y_train).score(X_test, y_test)\n",
    "print(f'Precisión: {acc:.1%} con {BS.best_params_}')"
   ],
   "metadata": {
    "collapsed": false,
    "ExecuteTime": {
     "end_time": "2024-05-25T21:15:59.924124900Z",
     "start_time": "2024-05-25T21:14:51.516549Z"
    }
   },
   "execution_count": 14
  },
  {
   "cell_type": "markdown",
   "metadata": {
    "id": "eCSmzF9XZXE2"
   },
   "source": [
    "## Olivetti Faces\n",
    "\n",
    "Prueba ahora el clasificador KNN junto con todos los parámetros y preprocesos que creas convenientes sobre el dataset de reconocimiento facial de Olivetti."
   ]
  },
  {
   "cell_type": "code",
   "outputs": [
    {
     "name": "stdout",
     "output_type": "stream",
     "text": [
      "(400, 4096)\n"
     ]
    }
   ],
   "source": [
    "from sklearn.datasets import fetch_openml\n",
    "from sklearn.model_selection import train_test_split\n",
    "from sklearn.datasets import fetch_olivetti_faces\n",
    "\n",
    "## Descarga del dataset Spam\n",
    "X, y = fetch_olivetti_faces(return_X_y=True)\n",
    "print(X.shape)\n",
    "\n",
    "## Partición train/test\n",
    "X_train, X_test, y_train, y_test = train_test_split(X, y, test_size=0.2, shuffle=True, random_state=23)"
   ],
   "metadata": {
    "collapsed": false,
    "ExecuteTime": {
     "end_time": "2024-05-21T07:14:53.499644600Z",
     "start_time": "2024-05-21T07:14:53.465528600Z"
    }
   },
   "execution_count": 2
  },
  {
   "cell_type": "code",
   "outputs": [
    {
     "name": "stdout",
     "output_type": "stream",
     "text": [
      "Precisión: 96.2% con {'leaf_size': 5, 'n_neighbors': 1, 'p': 1, 'weights': 'uniform'}\n"
     ]
    }
   ],
   "source": [
    "import warnings; warnings.filterwarnings('ignore')\n",
    "from sklearn.model_selection import train_test_split, GridSearchCV\n",
    "G = {'n_neighbors': [1,2,5,10], 'weights':['uniform', 'distance'], 'leaf_size': [5,10,20,30,50], 'p': [1,2,3]}\n",
    "GS = GridSearchCV(kv, G, scoring='accuracy', refit=True, cv=5)\n",
    "acc = GS.fit(X_train, y_train).score(X_test, y_test)\n",
    "print(f'Precisión: {acc:.1%} con {GS.best_params_}')"
   ],
   "metadata": {
    "collapsed": false,
    "ExecuteTime": {
     "end_time": "2024-05-21T07:22:53.057101100Z",
     "start_time": "2024-05-21T07:15:45.757974Z"
    }
   },
   "execution_count": 5
  },
  {
   "cell_type": "code",
   "outputs": [
    {
     "name": "stdout",
     "output_type": "stream",
     "text": [
      "Precisión: 96.2% con OrderedDict([('knn__leaf_size', 44), ('knn__metric', 'l2'), ('knn__n_neighbors', 1), ('knn__p', 1), ('knn__weights', 'distance'), ('pca__n_components', 31), ('poly__degree', 2)])\n"
     ]
    }
   ],
   "source": [
    "from sklearn.preprocessing import StandardScaler\n",
    "from sklearn.decomposition import PCA\n",
    "from sklearn.preprocessing import PolynomialFeatures\n",
    "from sklearn.pipeline import Pipeline\n",
    "from sklearn.datasets import fetch_olivetti_faces\n",
    "from skopt import BayesSearchCV\n",
    "from skopt.space import Real, Categorical, Integer\n",
    "\n",
    "X, y = fetch_olivetti_faces(return_X_y=True)\n",
    "X_train, X_test, y_train, y_test = train_test_split(X, y, test_size=0.2, shuffle=True, random_state=23)\n",
    "\n",
    "scaler = StandardScaler()\n",
    "pca = PCA()\n",
    "poly = PolynomialFeatures()\n",
    "knn = KNeighborsClassifier()\n",
    "\n",
    "pipe = Pipeline(steps=[(\"scaler\", scaler), (\"pca\", pca), (\"poly\", poly), (\"knn\", knn)])\n",
    "\n",
    "G = {\"pca__n_components\": Integer(1,57),\n",
    "     \"poly__degree\": [2], \n",
    "     \"knn__n_neighbors\": Integer(1,20),\n",
    "     \"knn__metric\": Categorical([\"l1\",\"l2\"]),\n",
    "     \"knn__weights\": Categorical([\"uniform\",\"distance\"]),\n",
    "     'knn__leaf_size': Integer(1,50),\n",
    "     'knn__p': Categorical([1,2,3])}\n",
    "\n",
    "BS = BayesSearchCV(pipe, G, scoring='accuracy', n_iter=20, refit=True, cv=5)\n",
    "\n",
    "acc = BS.fit(X_train, y_train).score(X_test, y_test)\n",
    "print(f'Precisión: {acc:.1%} con {BS.best_params_}')"
   ],
   "metadata": {
    "collapsed": false,
    "ExecuteTime": {
     "end_time": "2024-05-25T21:16:58.701509700Z",
     "start_time": "2024-05-25T21:16:34.014993800Z"
    }
   },
   "execution_count": 15
  },
  {
   "cell_type": "code",
   "outputs": [
    {
     "name": "stdout",
     "output_type": "stream",
     "text": [
      "Precisión: 95.0% con OrderedDict([('knn__algorithm', 'kd_tree'), ('knn__leaf_size', 37), ('knn__metric', 'l1'), ('knn__n_neighbors', 1), ('knn__p', 1.0), ('knn__weights', 'distance'), ('pca__n_components', 19), ('poly__degree', 1)])\n"
     ]
    }
   ],
   "source": [
    "from sklearn.preprocessing import StandardScaler\n",
    "from sklearn.decomposition import PCA\n",
    "from sklearn.preprocessing import PolynomialFeatures\n",
    "from sklearn.pipeline import Pipeline\n",
    "from sklearn.datasets import fetch_olivetti_faces\n",
    "from skopt import BayesSearchCV\n",
    "from skopt.space import Real, Categorical, Integer\n",
    "\n",
    "X, y = fetch_olivetti_faces(return_X_y=True)\n",
    "X_train, X_test, y_train, y_test = train_test_split(X, y, test_size=0.2, shuffle=True, random_state=23)\n",
    "\n",
    "scaler = StandardScaler()\n",
    "pca = PCA()\n",
    "poly = PolynomialFeatures()\n",
    "knn = KNeighborsClassifier()\n",
    "\n",
    "pipe = Pipeline(steps=[(\"scaler\", scaler), (\"pca\", pca), (\"poly\", poly), (\"knn\", knn)])\n",
    "\n",
    "G = {\"pca__n_components\": Integer(1,30),\n",
    "     \"poly__degree\": Integer(1,3), \n",
    "     \"knn__n_neighbors\": Integer(1,20),\n",
    "     \"knn__metric\": Categorical([\"l1\",\"l2\"]),\n",
    "     \"knn__weights\": Categorical([\"uniform\",\"distance\"]),\n",
    "     \"knn__algorithm\": Categorical([\"auto\", \"ball_tree\", \"kd_tree\", \"brute\"]),\n",
    "     \"knn__leaf_size\": Integer(1,50),\n",
    "     \"knn__p\": Real(1,10)}\n",
    "\n",
    "BS = BayesSearchCV(pipe, G, scoring='accuracy', n_iter=20, refit=True, cv=5)\n",
    "\n",
    "acc = BS.fit(X_train, y_train).score(X_test, y_test)\n",
    "print(f'Precisión: {acc:.1%} con {BS.best_params_}')"
   ],
   "metadata": {
    "collapsed": false,
    "ExecuteTime": {
     "end_time": "2024-05-25T21:33:16.778476700Z",
     "start_time": "2024-05-25T21:32:53.991610400Z"
    }
   },
   "execution_count": 20
  }
 ],
 "metadata": {
  "colab": {
   "provenance": []
  },
  "kernelspec": {
   "name": "python3",
   "language": "python",
   "display_name": "Python 3 (ipykernel)"
  },
  "language_info": {
   "codemirror_mode": {
    "name": "ipython",
    "version": 3
   },
   "file_extension": ".py",
   "mimetype": "text/x-python",
   "name": "python",
   "nbconvert_exporter": "python",
   "pygments_lexer": "ipython3",
   "version": "3.11.5"
  }
 },
 "nbformat": 4,
 "nbformat_minor": 0
}
