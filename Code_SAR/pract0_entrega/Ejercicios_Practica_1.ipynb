{
 "cells": [
  {
   "cell_type": "markdown",
   "metadata": {},
   "source": [
    "# EJERCICIOS PRÁCTICA 1"
   ]
  },
  {
   "cell_type": "markdown",
   "metadata": {},
   "source": [
    "En el otro archivo están todos los ejercicios resueltos como funciones con varios casos de prueba, este documento es más una forma de mostrar el trabajo intermedio"
   ]
  },
  {
   "cell_type": "markdown",
   "source": [
    "Ejercicio 1"
   ],
   "metadata": {
    "collapsed": false
   }
  },
  {
   "cell_type": "code",
   "execution_count": 56,
   "metadata": {
    "ExecuteTime": {
     "end_time": "2024-03-06T22:08:53.528654400Z",
     "start_time": "2024-03-06T22:08:52.975955600Z"
    }
   },
   "outputs": [
    {
     "name": "stdout",
     "output_type": "stream",
     "text": [
      "Introduciendo un pangrama por teclado obtenemos:  True\n"
     ]
    }
   ],
   "source": [
    "import string\n",
    "alphabet = string.ascii_lowercase\n",
    "s = input(\"Ingrese una frase: \") or \"The quick brown fox jumps over the lazy dog\"\n",
    "s = s.lower()\n",
    "res = True\n",
    "\n",
    "for letter in alphabet:\n",
    "    if not(letter in s):\n",
    "        res = False\n",
    "\n",
    "print(\"Introduciendo un pangrama por teclado obtenemos: \", res)"
   ]
  },
  {
   "cell_type": "markdown",
   "source": [
    "Para probar este ejercicio con varias cadenas:"
   ],
   "metadata": {
    "collapsed": false
   }
  },
  {
   "cell_type": "code",
   "outputs": [
    {
     "name": "stdout",
     "output_type": "stream",
     "text": [
      "Para la cadena 0 la respuesta es True\n",
      "Para la cadena 1 la respuesta es False\n",
      "Para la cadena 2 la respuesta es True\n"
     ]
    }
   ],
   "source": [
    "import string\n",
    "alphabet = string.ascii_lowercase\n",
    "cadenas = [\"The quick brown fox jumps over the lazy dog\", \"Patata\", \"Abcdefghijklmnopqrstuvwxyz\"]\n",
    "\n",
    "for i,s in enumerate(cadenas):\n",
    "    s = s.lower()\n",
    "    res = True\n",
    "    \n",
    "    for letter in alphabet:\n",
    "        if not(letter in s):\n",
    "            res = False\n",
    "    \n",
    "    print(\"Para la cadena\", i, \"la respuesta es\", res)\n"
   ],
   "metadata": {
    "collapsed": false,
    "ExecuteTime": {
     "end_time": "2024-03-06T22:08:55.616638900Z",
     "start_time": "2024-03-06T22:08:55.595545900Z"
    }
   },
   "execution_count": 57
  },
  {
   "cell_type": "markdown",
   "source": [
    "---------------------------------------------------------------------------------------------------------------------------------"
   ],
   "metadata": {
    "collapsed": false
   }
  },
  {
   "cell_type": "markdown",
   "metadata": {},
   "source": [
    "Ejercicio 2"
   ]
  },
  {
   "cell_type": "code",
   "execution_count": 58,
   "metadata": {
    "ExecuteTime": {
     "end_time": "2024-03-06T22:09:01.590850700Z",
     "start_time": "2024-03-06T22:09:01.007541600Z"
    }
   },
   "outputs": [
    {
     "name": "stdout",
     "output_type": "stream",
     "text": [
      "False\n"
     ]
    }
   ],
   "source": [
    "import string\n",
    "alphabet = string.ascii_lowercase\n",
    "dictionary = {}\n",
    "\n",
    "for letter in alphabet:\n",
    "    dictionary[letter] = 0\n",
    "\n",
    "s = input(\"Ingrese una frase: \") or \"The quick brown fox jumps over the lazy dog\"\n",
    "s = s.replace(\" \", \"\").lower()\n",
    "res = True\n",
    "\n",
    "for character in s:\n",
    "    dictionary[character] += 1\n",
    "\n",
    "for c, i in dictionary.items():\n",
    "    if not(i==1):\n",
    "        res = False\n",
    "        break\n",
    "\n",
    "print(res)"
   ]
  },
  {
   "cell_type": "markdown",
   "source": [
    "Esta respuesta corresponde a la entrada default, pero puede probarse con otros valores de la misma forma que se ha hecho con el 1"
   ],
   "metadata": {
    "collapsed": false
   }
  },
  {
   "cell_type": "markdown",
   "source": [
    "---------------------------------------------------------------------------------------------------------------------------------"
   ],
   "metadata": {
    "collapsed": false
   }
  },
  {
   "cell_type": "markdown",
   "source": [
    "Ejercicio 3"
   ],
   "metadata": {
    "collapsed": false
   }
  },
  {
   "cell_type": "code",
   "execution_count": 59,
   "metadata": {
    "ExecuteTime": {
     "end_time": "2024-03-06T22:09:08.172113700Z",
     "start_time": "2024-03-06T22:09:06.753923Z"
    }
   },
   "outputs": [
    {
     "name": "stdout",
     "output_type": "stream",
     "text": [
      "Para las cadenas default: True\n"
     ]
    }
   ],
   "source": [
    "import string\n",
    "punctuation = string.punctuation\n",
    "\n",
    "s1 = input(\"Primer string: \") or \"Life on mars\"\n",
    "s2 = input(\"Segundo string: \") or \"Alien forms\"\n",
    "\n",
    "s1 = s1.lower().replace(\" \", \"\")\n",
    "s2 = s2.lower().replace(\" \", \"\")\n",
    "\n",
    "res = True\n",
    "\n",
    "for character in punctuation:\n",
    "    s1 = s1.replace(character, \"\")\n",
    "    s2 = s2.replace(character, \"\")\n",
    "\n",
    "if not (len(s1) == len(s2)):\n",
    "    res = False\n",
    "else:\n",
    "    for letter in s1:\n",
    "        pos = s2.find(letter)\n",
    "        if pos == -1:\n",
    "            res = False\n",
    "            break\n",
    "\n",
    "print(\"Para las cadenas default:\", res)"
   ]
  },
  {
   "cell_type": "markdown",
   "source": [
    "----------------------------------------------------------------------------------------------------------------------------------"
   ],
   "metadata": {
    "collapsed": false
   }
  },
  {
   "cell_type": "markdown",
   "metadata": {},
   "source": [
    "Ejercicio 4"
   ]
  },
  {
   "cell_type": "code",
   "execution_count": 61,
   "metadata": {
    "ExecuteTime": {
     "end_time": "2024-03-06T22:10:03.883626500Z",
     "start_time": "2024-03-06T22:10:02.420815100Z"
    }
   },
   "outputs": [
    {
     "name": "stdout",
     "output_type": "stream",
     "text": [
      "['hola, esta es la primera lÃ\\xadnea\\n', 'otra lÃ\\xadnea mÃ¡s\\n', 'por fin termina este fichero de 4 lÃ\\xadneas hola hola']\n"
     ]
    }
   ],
   "source": [
    "ruta = input(\"Introduce la ruta:\") or \"prueba\"\n",
    "palabra = input(\"Introduce la palabra:\") or \"la\"\n",
    "\n",
    "try:\n",
    "    texto = open(ruta, 'r')\n",
    "    res = []\n",
    "    \n",
    "    for linea in texto:\n",
    "        if not ((linea.find(palabra)) == 0):\n",
    "            res.append(linea)\n",
    "    \n",
    "    texto.close()\n",
    "    \n",
    "    print(res)\n",
    "except:\n",
    "    print(\"No se encontró el archivo\")\n",
    "    "
   ]
  },
  {
   "cell_type": "markdown",
   "source": [
    "----------------------------------------------------------------------------------------------------------------------------------"
   ],
   "metadata": {
    "collapsed": false
   }
  },
  {
   "cell_type": "markdown",
   "source": [
    "Ejercicio 5"
   ],
   "metadata": {
    "collapsed": false
   }
  },
  {
   "cell_type": "markdown",
   "source": [
    "Utilizando un diccionario normal:"
   ],
   "metadata": {
    "collapsed": false
   }
  },
  {
   "cell_type": "code",
   "outputs": [
    {
     "name": "stdout",
     "output_type": "stream",
     "text": [
      "[7, 14, 3, 3]\n"
     ]
    }
   ],
   "source": [
    "s = input(\"Introduce la cadena\") or \"abbabcbdbabdbdbabababcbcbab\"\n",
    "dictionary = {}\n",
    "res = []\n",
    "\n",
    "for letter in s:\n",
    "    try:\n",
    "        dictionary[letter] += 1\n",
    "    except:\n",
    "        dictionary[letter] = 1\n",
    "\n",
    "for k,v in dictionary.items():\n",
    "    res.append(v)\n",
    "\n",
    "print(res)"
   ],
   "metadata": {
    "collapsed": false,
    "ExecuteTime": {
     "end_time": "2024-03-06T22:10:08.519912600Z",
     "start_time": "2024-03-06T22:10:07.926957100Z"
    }
   },
   "execution_count": 62
  },
  {
   "cell_type": "markdown",
   "source": [
    "Utilizando Counter:"
   ],
   "metadata": {
    "collapsed": false
   }
  },
  {
   "cell_type": "code",
   "outputs": [
    {
     "name": "stdout",
     "output_type": "stream",
     "text": [
      "[7, 14, 3, 3]\n"
     ]
    }
   ],
   "source": [
    "from collections import Counter\n",
    "\n",
    "s = input(\"Introduce la cadena\") or \"abbabcbdbabdbdbabababcbcbab\"\n",
    "count = Counter()\n",
    "res = []\n",
    "\n",
    "for letter in s:\n",
    "    count[letter] += 1\n",
    "\n",
    "for k,v in count.items():\n",
    "    res.append(v)\n",
    "\n",
    "print(res)"
   ],
   "metadata": {
    "collapsed": false,
    "ExecuteTime": {
     "end_time": "2024-03-06T22:10:11.736929600Z",
     "start_time": "2024-03-06T22:10:11.322072700Z"
    }
   },
   "execution_count": 63
  },
  {
   "cell_type": "markdown",
   "source": [
    "----------------------------------------------------------------------------------------------------------------------------------"
   ],
   "metadata": {
    "collapsed": false
   }
  },
  {
   "cell_type": "markdown",
   "source": [
    "Ejercicio 6"
   ],
   "metadata": {
    "collapsed": false
   }
  },
  {
   "cell_type": "code",
   "execution_count": 65,
   "metadata": {
    "ExecuteTime": {
     "end_time": "2024-03-06T22:10:15.639397400Z",
     "start_time": "2024-03-06T22:10:15.631875500Z"
    }
   },
   "outputs": [
    {
     "name": "stdout",
     "output_type": "stream",
     "text": [
      "OK\n",
      "OK\n",
      "OK\n",
      "NOT OK\n",
      "NOT OK\n",
      "NOT OK\n",
      "OK\n",
      "NOT OK\n"
     ]
    }
   ],
   "source": [
    "s = [\"[]\", \"[][]\", \"[[][]]\", \"][\", \"][][\", \"[]][[]\", \"[hola]\", \"]hola[\"]\n",
    "\n",
    "for entrada in s:\n",
    "    res = \"OK\"\n",
    "    counter = 0\n",
    "    skip = False\n",
    "    for character in entrada:\n",
    "        if character == \"[\":\n",
    "            counter += 1\n",
    "        elif character == \"]\":\n",
    "            counter -= 1\n",
    "        \n",
    "        if counter < 0:\n",
    "            res = \"NOT OK\"\n",
    "            skip = True\n",
    "            break\n",
    "    \n",
    "    if not skip:\n",
    "        if not (counter == 0):\n",
    "            res = \"NOT OK\"\n",
    "    \n",
    "    print(res)"
   ]
  }
 ],
 "metadata": {
  "kernelspec": {
   "display_name": "Python 3",
   "language": "python",
   "name": "python3"
  },
  "language_info": {
   "codemirror_mode": {
    "name": "ipython",
    "version": 3
   },
   "file_extension": ".py",
   "mimetype": "text/x-python",
   "name": "python",
   "nbconvert_exporter": "python",
   "pygments_lexer": "ipython3",
   "version": "3.8.5"
  }
 },
 "nbformat": 4,
 "nbformat_minor": 2
}
